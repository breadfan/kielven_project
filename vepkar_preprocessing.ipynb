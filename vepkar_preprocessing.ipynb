{
 "cells": [
  {
   "cell_type": "code",
   "execution_count": null,
   "metadata": {},
   "outputs": [],
   "source": [
    "import fitz\n",
    "import re\n",
    "import mariadb\n",
    "import sys\n",
    "import pandas as pd\n",
    "import numpy as np\n",
    "from sklearn.model_selection import train_test_split\n",
    "from tqdm.auto import tqdm\n",
    "import os\n",
    "from transformers import AutoModelForSeq2SeqLM, AutoTokenizer\n",
    "\n",
    "from lingtrain_aligner import preprocessor, splitter, aligner, resolver, reader, vis_helper\n",
    "from sentence_splitter import SentenceSplitter, split_text_into_sentences\n",
    "from pandas import DataFrame as DF"
   ]
  },
  {
   "cell_type": "code",
   "execution_count": null,
   "metadata": {},
   "outputs": [],
   "source": [
    "# with open('data/gemma_translations/df_test_skazki_rus_gemma3.txt', 'r', encoding='utf-8') as f:\n",
    "#     test_kar = f.readlines()\n",
    "# test_kar = [x.strip() for x in test_kar]\n",
    "# df = pd.read_csv('data/translation.csv')\n",
    "# df['gemma3_27b'] = test_kar\n",
    "# df.to_csv('data/translation.csv', index=False)"
   ]
  },
  {
   "cell_type": "code",
   "execution_count": 2,
   "metadata": {},
   "outputs": [],
   "source": [
    "%load_ext autoreload\n",
    "%autoreload 2"
   ]
  },
  {
   "cell_type": "code",
   "execution_count": null,
   "metadata": {},
   "outputs": [],
   "source": [
    "# главная функция по обработке vepkar\n",
    "def cut_rn(row):\n",
    "    temp_orig = row.text_orig\n",
    "    temp_trans = row.text_trans\n",
    "    \n",
    "    temp_orig = re.sub(r'[i̮ị]', 'i', temp_orig)\n",
    "    \n",
    "    if '<sup>' in temp_orig:\n",
    "        temp_orig = temp_orig.replace('\\r\\n', ' ')\n",
    "        temp_trans = temp_trans.replace('\\r\\n', ' ')\n",
    "        temp_orig = re.sub(r'<sup>(\\d+)</sup>', r'\\1', temp_orig)\n",
    "        temp_trans = re.sub(r'<sup>(\\d+)</sup>', r'\\1', temp_trans)\n",
    "        temp_orig = re.sub(r'[|^]', '', temp_orig)\n",
    "        temp_trans = re.sub(r'[|^]', '', temp_trans)\n",
    "        split_orig = re.split(r'\\d', temp_orig)\n",
    "        split_trans = re.split(r'\\d', temp_trans)\n",
    "    else:\n",
    "        temp_orig = re.sub(r'<sup>\\s*\\d+\\s*\\.?\\s*</sup>', '', temp_orig)\n",
    "        temp_trans = re.sub(r'<sup>\\s*\\d+\\s*\\.?\\s*</sup>', '', temp_trans)\n",
    "        temp_orig = re.sub(r'\\d+\\.\\^', '', temp_orig)\n",
    "        temp_trans = re.sub(r'\\d+\\.\\^', '', temp_trans)\n",
    "        temp_orig = re.sub(r'[|^]', '', temp_orig)\n",
    "        temp_trans = re.sub(r'[|^]', '', temp_trans)\n",
    "        split_orig = temp_orig.split('\\r\\n')\n",
    "        split_trans = temp_trans.split('\\r\\n')\n",
    "    \n",
    "    sentences_orig = [s.replace('</sup>', '').replace('<sup>', '').strip() for s in split_orig if s.strip() and not s.strip().isdigit()]\n",
    "    sentences_trans = [s.replace('</sup>', '').replace('<sup>', '').strip() for s in split_trans if s.strip() and not s.strip().isdigit()]\n",
    "    temp_orig = temp_orig.replace('\\r\\n', ' ')\n",
    "    temp_trans = temp_trans.replace('\\r\\n', ' ')\n",
    "    temp_orig = re.sub(r'\\d', '', temp_orig).strip()\n",
    "    temp_trans = re.sub(r'\\d', '', temp_trans).strip()\n",
    "    return sentences_orig, sentences_trans, row.title_orig, row.title_trans,\\\n",
    "        temp_orig, temp_trans"
   ]
  },
  {
   "cell_type": "markdown",
   "metadata": {},
   "source": [
    "Строк с разметкой `<sup>`: 800"
   ]
  },
  {
   "cell_type": "code",
   "execution_count": 3,
   "metadata": {},
   "outputs": [],
   "source": [
    "res_subj = pd.read_csv('data//res_subj.csv')"
   ]
  },
  {
   "cell_type": "code",
   "execution_count": null,
   "metadata": {},
   "outputs": [],
   "source": [
    "kar_corpus, rus_corpus = list(), list()\n",
    "align_kar, align_rus = list(), list()\n",
    "titles_orig, titles_trans = list(), list()\n",
    "all_kar, all_rus = list(), list()\n",
    "for num, row in res_subj.reset_index(drop=True).iterrows():\n",
    "    sentences_orig, sentences_trans, title_orig, title_trans, temp_orig, temp_trans = cut_rn(row)\n",
    "    all_kar.extend(sentences_orig)\n",
    "    all_rus.extend(sentences_trans)\n",
    "    if len(sentences_orig) != len(sentences_trans):\n",
    "        align_kar.append(temp_orig)\n",
    "        align_rus.append(temp_trans)\n",
    "        titles_orig.append(title_orig)\n",
    "        titles_trans.append(title_trans)\n",
    "        continue\n",
    "    kar_corpus.extend(sentences_orig)\n",
    "    rus_corpus.extend(sentences_trans)\n",
    "    \n",
    "print(len(kar_corpus), len(rus_corpus)) \n",
    "assert len(kar_corpus) == len(rus_corpus), 'Длины корпусов не совпадают'"
   ]
  },
  {
   "cell_type": "code",
   "execution_count": null,
   "metadata": {},
   "outputs": [
    {
     "data": {
      "text/plain": [
       "['Müö küzüimmö niidü, kudamat tullah meijän piäl’e voinankel’e: «Midä tüö meis tahtotto?']"
      ]
     },
     "execution_count": 9,
     "metadata": {},
     "output_type": "execute_result"
    }
   ],
   "source": [
    "[for sent in kar_corpus.split('.')]"
   ]
  },
  {
   "cell_type": "code",
   "execution_count": null,
   "metadata": {},
   "outputs": [
    {
     "name": "stdout",
     "output_type": "stream",
     "text": [
      "Train set size: 19180\n",
      "Dev set size: 500\n",
      "Test set size: 500\n"
     ]
    }
   ],
   "source": [
    "# делим датасет\n",
    "df_corpus = pd.DataFrame({'kar': kar_corpus, 'rus': rus_corpus})\n",
    "\n",
    "# Split the data into train, dev, and test sets\n",
    "train_df, temp_df = train_test_split(df_corpus, test_size=1000, random_state=42)\n",
    "dev_df, test_df = train_test_split(temp_df, test_size=0.5, random_state=42)\n",
    "\n",
    "# Add a column to label the sets\n",
    "train_df['split'] = 'train'\n",
    "dev_df['split'] = 'dev'\n",
    "test_df['split'] = 'test'\n",
    "\n",
    "# Concatenate the dataframes\n",
    "df_corpus_labeled = pd.concat([train_df, dev_df, test_df]).reset_index(drop=True)\n",
    "\n",
    "# Verify the sizes of the splits\n",
    "print(f\"Train set size: {len(train_df)}\")\n",
    "print(f\"Dev set size: {len(dev_df)}\")\n",
    "print(f\"Test set size: {len(test_df)}\")\n",
    "df_corpus_labeled.to_csv('parallel_df_new_data3.csv', index=False)"
   ]
  },
  {
   "cell_type": "code",
   "execution_count": 6,
   "metadata": {},
   "outputs": [
    {
     "data": {
      "text/plain": [
       "('«Konzu sinuu kučutah svuad՚bah, älä istoi stolas parahale sijale. Kentahto gostis voibi olla suurembi sinuu,',\n",
       " 'когда ты будешь позван кем на брак, не садись на первое место, чтобы не случился кто из званых им почетнее тебя,')"
      ]
     },
     "execution_count": 6,
     "metadata": {},
     "output_type": "execute_result"
    }
   ],
   "source": [
    "test_df.loc[6831]['kar'], test_df.loc[6831]['rus']"
   ]
  },
  {
   "cell_type": "code",
   "execution_count": 7,
   "metadata": {},
   "outputs": [
    {
     "data": {
      "text/plain": [
       "('Meil ei pidäs hyllätä uskojien kanzukunnan yhtehizii kerävyndöi, kui on harjavuttu erähät, a pidäs kehittiä toine tostu sidä enämbäl, midä lähembi nägyy Ižändän päivän tulo.',\n",
       " 'Не будем оставлять собрания своего, как есть у некоторых обычай; но будем увещевать друг друга, и тем более, чем более усматриваете приближение дня оного.')"
      ]
     },
     "execution_count": 7,
     "metadata": {},
     "output_type": "execute_result"
    }
   ],
   "source": [
    "test_df.iloc[-1]['kar'], test_df.iloc[-1]['rus']"
   ]
  },
  {
   "cell_type": "code",
   "execution_count": 26,
   "metadata": {},
   "outputs": [
    {
     "name": "stdout",
     "output_type": "stream",
     "text": [
      "[Ivanuška-boranuška]\n"
     ]
    },
    {
     "data": {
      "text/html": [
       "<div>\n",
       "<style scoped>\n",
       "    .dataframe tbody tr th:only-of-type {\n",
       "        vertical-align: middle;\n",
       "    }\n",
       "\n",
       "    .dataframe tbody tr th {\n",
       "        vertical-align: top;\n",
       "    }\n",
       "\n",
       "    .dataframe thead th {\n",
       "        text-align: right;\n",
       "    }\n",
       "</style>\n",
       "<table border=\"1\" class=\"dataframe\">\n",
       "  <thead>\n",
       "    <tr style=\"text-align: right;\">\n",
       "      <th></th>\n",
       "      <th>[Ivanuška-boranuška]</th>\n",
       "      <th>[Иванушка-баранушка]</th>\n",
       "    </tr>\n",
       "  </thead>\n",
       "  <tbody>\n",
       "    <tr>\n",
       "      <th>0</th>\n",
       "      <td>Oli ukko da akku.   Ukol-akal oli brihačču da ...</td>\n",
       "      <td>[Жили]-были старик да старуха.   У старика и с...</td>\n",
       "    </tr>\n",
       "  </tbody>\n",
       "</table>\n",
       "</div>"
      ],
      "text/plain": [
       "                                [Ivanuška-boranuška]  \\\n",
       "0  Oli ukko da akku.   Ukol-akal oli brihačču da ...   \n",
       "\n",
       "                                [Иванушка-баранушка]  \n",
       "0  [Жили]-были старик да старуха.   У старика и с...  "
      ]
     },
     "execution_count": 26,
     "metadata": {},
     "output_type": "execute_result"
    }
   ],
   "source": [
    "NUM = 0\n",
    "df = pd.DataFrame([align_kar[NUM], align_rus[NUM]]).T\n",
    "df.columns = [titles_orig[NUM], titles_trans[NUM]]\n",
    "print(df.columns[0])\n",
    "df"
   ]
  },
  {
   "cell_type": "code",
   "execution_count": 31,
   "metadata": {},
   "outputs": [
    {
     "data": {
      "text/plain": [
       "(array([160, 261, 365]),)"
      ]
     },
     "execution_count": 31,
     "metadata": {},
     "output_type": "execute_result"
    }
   ],
   "source": [
    "np.where(res_subj.title_orig == 'Voibigo suovattan piästiä voimattomii?')"
   ]
  },
  {
   "cell_type": "code",
   "execution_count": 36,
   "metadata": {},
   "outputs": [],
   "source": [
    "t = res_subj.iloc[160]\n",
    "temp_orig = t.text_orig\n",
    "temp_trans = t.text_trans\n",
    "temp_orig = temp_orig.replace('\\r\\n', ' ')\n",
    "temp_trans = temp_trans.replace('\\r\\n', ' ')\n",
    "temp_orig = re.sub(r'[|^]', '', temp_orig)\n",
    "temp_trans = re.sub(r'[|^]', '', temp_trans)\n",
    "split_orig = re.split(r'<sup>\\d+</sup>', temp_orig)\n",
    "split_trans = re.split(r'<sup>\\d+</sup>', temp_trans)"
   ]
  },
  {
   "cell_type": "code",
   "execution_count": 37,
   "metadata": {},
   "outputs": [
    {
     "data": {
      "text/plain": [
       "['',\n",
       " ' Iisus astui ielleh da tuli sinagougah.   ',\n",
       " ' Sie oli mies, kudaman käzi oli kuivanuh. Fariseit ečiteltihes, mis olis viärittiä Iisussua, da kyzyttih Hänel: «Suaugo suovattan piästiä voimattomii»?   ',\n",
       " ' Iisus vastai heile: «Ku keltahto teis ollou lammas da se pakkunou haudah suovattan, ga eigo häi tartu sih käzil da eigo nosta sidä havvaspäi?   ',\n",
       " ' Onhäi ristikanzu äijiä kallehembi ku lammas. Ga sit suovattan suau luadie hyviä».   ',\n",
       " ' Sit Häi sanoi miehele: «Oijenda käzi». Mies oijendi käin i se rodih endizelleh, terveh ku toine käzi.   ',\n",
       " ' A fariseit mendih pihale da ruvettih pagizemah, kui tappua Iisussua.']"
      ]
     },
     "execution_count": 37,
     "metadata": {},
     "output_type": "execute_result"
    }
   ],
   "source": [
    "split_orig"
   ]
  },
  {
   "cell_type": "code",
   "execution_count": 38,
   "metadata": {},
   "outputs": [
    {
     "data": {
      "text/plain": [
       "['',\n",
       " ' И, отойдя оттуда, вошел Он в синагогу их.  ',\n",
       " ' И вот, там был человек, имеющий сухую руку. И спросили Иисуса, чтобы обвинить Его: можно ли исцелять в субботы?  ',\n",
       " ' Он же сказал им: кто из вас, имея одну овцу, если она в субботу упадет в яму, не возьмет ее и не вытащит?  ',\n",
       " ' Сколько же лучше человек овцы! Итак можно в субботы делать добро.  ',\n",
       " ' Тогда говорит человеку тому: протяни руку твою. И он протянул, и стала она здорова, как другая.  14 Фарисеи же, выйдя, имели совещание против Него, как бы погубить Его. Но Иисус, узнав, удалился оттуда. ']"
      ]
     },
     "execution_count": 38,
     "metadata": {},
     "output_type": "execute_result"
    }
   ],
   "source": [
    "split_trans"
   ]
  },
  {
   "cell_type": "code",
   "execution_count": 41,
   "metadata": {},
   "outputs": [
    {
     "data": {
      "text/plain": [
       "'<sup>9</sup> И, отойдя оттуда, вошел Он в синагогу их.\\r\\n\\r\\n<sup>10</sup> И вот, там был человек, имеющий сухую руку. И спросили Иисуса, чтобы обвинить Его: можно ли исцелять в субботы?\\r\\n\\r\\n<sup>11</sup> Он же сказал им: кто из вас, имея одну овцу, если она в субботу упадет в яму, не возьмет ее и не вытащит?\\r\\n\\r\\n<sup>12</sup> Сколько же лучше человек овцы! Итак можно в субботы делать добро.\\r\\n\\r\\n<sup>13</sup> Тогда говорит человеку тому: протяни руку твою. И он протянул, и стала она здорова, как другая.\\r\\n\\r\\n14 Фарисеи же, выйдя, имели совещание против Него, как бы погубить Его. Но Иисус, узнав, удалился оттуда. '"
      ]
     },
     "execution_count": 41,
     "metadata": {},
     "output_type": "execute_result"
    }
   ],
   "source": [
    "res_subj.iloc[160].text_trans"
   ]
  },
  {
   "cell_type": "markdown",
   "metadata": {},
   "source": [
    "# Alignment. Используем библиотеку lingtrain_aligner"
   ]
  },
  {
   "cell_type": "code",
   "execution_count": 6,
   "metadata": {},
   "outputs": [
    {
     "name": "stdout",
     "output_type": "stream",
     "text": [
      "16160\n",
      "57\n",
      "1443 1541\n"
     ]
    },
    {
     "data": {
      "text/plain": [
       "'Hospodi da bože(b) blahoslovi(i),  Blahoslovi jo spuasoini da bohorodicaženi.  Opin ruveta ičel’l’eni sijažii pakiččemah: Anduatto minulleni, miiloslivoit sündüžed(i),  Mihail-arhangeli, Gawril-arhangeli, an’heli-arhangeli,  Spuassaine da bohorodicaine, Iivanan-päivänaiguhiži(i)h aigaži(i)h,  Pedrun(i)-päivänaiguiži(i)h l’ämmäži(i)h.  Ečikkiättö jo minun(i) hel’ein hengüžen(i)  Matkuandan aijoikse kaijat tuomidorogažet,  Kazvatelkua jo kuldažed(i) koivužed(i),  Čuran-toižen(i) dorogažii hobjažed(i) l’ehtüät  Minun hel’evien(i) hengüžien(i) matkuandan aijoikse. Äl’giä jo pangua minun hel’evii hengüžii  Ni viäristänaiguhižih vilužih,  Ni rastavan aiguhižih pakkažih. Kurjaine l’ähten(i) ül’en(i) kulunnužil(i)  Kuvažil, el’ännüžil igäžil. Liennengo voinnuh senilmažed(i) sijažed(i) lunnastella,  Konzu hod’(i) türmäžis(i) ištuin, niih aigažih? Miiloslivoid(i) sündüžed(i),  Pangua jo minuwdani kudamis(i) kohtažis on  Miiloslivoin(i) sündüžiän(i) luwgazet,  Ilmoil’ližian(i) ilmoin(i) randoih niis(i) luwgažis(i). On čuran-toižen medovoit maidojoguad(i),  I l’eibügoražed(i) loppumattomat on niis kohtažis.  Pedri-(v)armoženi prestolažet on(i)  Ilmois ilmoin randoih, mualois(i) mualoin rajoih.  Kaikenualaižed(i) on(i) süömižed i juamižed(i) loppumattomat.  Voinnužin gu(n) omil’e hengüžil’e  Niih prestolažih sijažed(i) lunnastella? Ei jiännüh kallehii kandomužii minun lunnastelijoi,  Hel’eil’öin hengüžien enämbiä jäl’l’el’e minuw...'"
      ]
     },
     "execution_count": 6,
     "metadata": {},
     "output_type": "execute_result"
    }
   ],
   "source": [
    "print(len(kar_corpus))\n",
    "print(len(align_kar))\n",
    "NUM = 2\n",
    "\n",
    "print(len(align_kar[NUM]), len(align_rus[NUM]))\n",
    "align_kar[NUM]"
   ]
  },
  {
   "cell_type": "code",
   "execution_count": null,
   "metadata": {},
   "outputs": [],
   "source": [
    "for NUM in tqdm(range(len(align_kar))):\n",
    "    all_text_orig = [align_kar[NUM]]\n",
    "    all_text_trans = [align_rus[NUM]]\n",
    "    lang_from = \"fi\"\n",
    "    lang_to = \"ru\"\n",
    "    models = [\"sentence_transformer_multilingual\", \"sentence_transformer_multilingual_labse\", 'nllb']\n",
    "    model_name = models[2]\n",
    "\n",
    "    text1_prepared = preprocessor.mark_paragraphs(all_text_orig)\n",
    "    text2_prepared = preprocessor.mark_paragraphs(all_text_trans)\n",
    "    splitted_from = splitter.split_by_sentences_wrapper(text1_prepared, lang_from)\n",
    "    splitted_to = splitter.split_by_sentences_wrapper(text2_prepared, lang_to)\n",
    "\n",
    "    db_path = f\"databases//book_{NUM}.db\"\n",
    "    aligner.fill_db(db_path, lang_from, lang_to, splitted_from, splitted_to)\n",
    "    batch_ids = [0,1]\n",
    "\n",
    "    aligner.align_db(db_path,\n",
    "                    model_name,\n",
    "                    batch_size=100,\n",
    "                    window=30,\n",
    "                    batch_ids=batch_ids,\n",
    "                    save_pic=False,\n",
    "                    embed_batch_size=50,\n",
    "                    normalize_embeddings=True,\n",
    "                    show_progress_bar=False,\n",
    "                    show_info=False\n",
    "                    )\n",
    "    paragraphs, par_ids, meta, sent_counter = reader.get_paragraphs(db_path)\n",
    "    assert len(paragraphs['from'][0]) == len(paragraphs['to'][0]), 'Длины не совпадают'\n",
    "    kar_corpus.extend(paragraphs['from'][0])\n",
    "    rus_corpus.extend(paragraphs['to'][0])"
   ]
  },
  {
   "cell_type": "code",
   "execution_count": 19,
   "metadata": {},
   "outputs": [
    {
     "data": {
      "text/plain": [
       "20180"
      ]
     },
     "execution_count": 19,
     "metadata": {},
     "output_type": "execute_result"
    }
   ],
   "source": [
    "len(kar_corpus)"
   ]
  },
  {
   "cell_type": "code",
   "execution_count": 23,
   "metadata": {},
   "outputs": [
    {
     "data": {
      "text/plain": [
       "('– Ei peä minul Niikoloi, – i lähti ielleh ajamah.',\n",
       " '– Hе надо мне Нийкоя, – и поехал дальше.')"
      ]
     },
     "execution_count": 23,
     "metadata": {},
     "output_type": "execute_result"
    }
   ],
   "source": [
    "kar_corpus[-1000], rus_corpus[-1000]"
   ]
  },
  {
   "cell_type": "code",
   "execution_count": null,
   "metadata": {},
   "outputs": [],
   "source": [
    "all_text_orig = [align_kar[NUM]]\n",
    "all_text_trans = [align_rus[NUM]]\n",
    "lang_from = \"fi\"\n",
    "lang_to = \"ru\"\n",
    "models = [\"sentence_transformer_multilingual\", \"sentence_transformer_multilingual_labse\",  'nllb']\n",
    "model_name = models[2]\n",
    "\n",
    "text1_prepared = preprocessor.mark_paragraphs(all_text_orig)\n",
    "text2_prepared = preprocessor.mark_paragraphs(all_text_trans)\n",
    "splitted_from = splitter.split_by_sentences_wrapper(text1_prepared, lang_from)\n",
    "splitted_to = splitter.split_by_sentences_wrapper(text2_prepared, lang_to)\n",
    "\n",
    "db_path = f\"databases//book_{0}.db\"\n",
    "aligner.fill_db(db_path, lang_from, lang_to, splitted_from, splitted_to)\n",
    "batch_ids = [0,1]\n",
    "\n",
    "aligner.align_db(db_path,\n",
    "                model_name,\n",
    "                batch_size=100,\n",
    "                window=30,\n",
    "                batch_ids=batch_ids,\n",
    "                save_pic=True,\n",
    "                embed_batch_size=50,\n",
    "                normalize_embeddings=True,\n",
    "                show_progress_bar=True,\n",
    "                show_info=True\n",
    "                )\n"
   ]
  },
  {
   "cell_type": "code",
   "execution_count": 8,
   "metadata": {},
   "outputs": [],
   "source": [
    "paragraphs, par_ids, meta, sent_counter = reader.get_paragraphs(db_path)\n",
    "assert len(paragraphs['from'][0]) == len(paragraphs['to'][0]), 'Длины не совпадают'\n",
    "kar_corpus.extend(paragraphs['from'][0])\n",
    "rus_corpus.extend(paragraphs['to'][0])"
   ]
  },
  {
   "cell_type": "code",
   "execution_count": 10,
   "metadata": {},
   "outputs": [
    {
     "data": {
      "text/plain": [
       "(['Hospodi da bože(b) blahoslovi(i), Blahoslovi jo spuasoini da bohorodicaženi.',\n",
       "  'Opin ruveta ičel’l’eni sijažii pakiččemah: Anduatto minulleni, miiloslivoit sündüžed(i), Mihail-arhangeli, Gawril-arhangeli, an’heli-arhangeli, Spuassaine da bohorodicaine, Iivanan-päivänaiguhiži(i)h aigaži(i)h, Pedrun(i)-päivänaiguiži(i)h l’ämmäži(i)h.',\n",
       "  'Ečikkiättö jo minun(i) hel’ein hengüžen(i) Matkuandan aijoikse kaijat tuomidorogažet, Kazvatelkua jo kuldažed(i) koivužed(i), Čuran-toižen(i) dorogažii hobjažed(i) l’ehtüät Minun hel’evien(i) hengüžien(i) matkuandan aijoikse.',\n",
       "  'Äl’giä jo pangua minun hel’evii hengüžii Ni viäristänaiguhižih vilužih, Ni rastavan aiguhižih pakkažih.',\n",
       "  'Kurjaine l’ähten(i) ül’en(i) kulunnužil(i) Kuvažil, el’ännüžil igäžil.',\n",
       "  'Liennengo voinnuh senilmažed(i) sijažed(i) lunnastella, Konzu hod’(i) türmäžis(i) ištuin, niih aigažih?',\n",
       "  'Miiloslivoid(i) sündüžed(i), Pangua jo minuwdani kudamis(i) kohtažis on Miiloslivoin(i) sündüžiän(i) luwgazet, Ilmoil’ližian(i) ilmoin(i) randoih niis(i) luwgažis(i).',\n",
       "  'On čuran-toižen medovoit maidojoguad(i), I l’eibügoražed(i) loppumattomat on niis kohtažis.',\n",
       "  'Pedri-(v)armoženi prestolažet on(i) Ilmois ilmoin randoih, mualois(i) mualoin rajoih.',\n",
       "  'Kaikenualaižed(i) on(i) süömižed i juamižed(i) loppumattomat.',\n",
       "  'Voinnužin gu(n) omil’e hengüžil’e Niih prestolažih sijažed(i) lunnastella?'],\n",
       " ['Господи боже, благослови, Благослови же, Спас и Богородица милая.',\n",
       "  'Попробую себе местечко на том свете выпросить: Дайте же мне, милостливые боженьки, Михаил архангел, Гавриил архангел, ангел-архангел, Спас дорогой и Богородица добрая, [Умереть] во времечко, какое бывает в Иванов день, Тепло, какое бывает в пору Петрова дня.',\n",
       "  'Найдите же на время прихода моей светлой душеньки Узенькие дороженьки, обсаженные черемухами, Вырастите же к этому времечку золотые березоньки С серебряными листочками по обеим сторонам дороженьки На времечко, когда моя светлая душа будет идти на тот свет.',\n",
       "  'Не отправляйте мою светлою душеньку на тот свет Во времена крещёнских морозов лютых, Ни во времена рождественских морозов крепких.',\n",
       "  'Попробую себе местечко на том свете выпросить: Дайте же мне, милостливые боженьки, Михаил архангел, Гавриил архангел, ангел-архангел, Спас дорогой и Богородица добрая, [Умереть] во времечко, какое бывает в Иванов день, Тепло, какое бывает в пору Петрова дня.',\n",
       "  'Не знаю, смогла ли я заслужить и выкупить местечко на том свете, Хотя бы тем, что я перестрадала, сидя в тюрьме?',\n",
       "  'Попробую себе местечко на том свете выпросить: Дайте же мне, милостливые боженьки, Михаил архангел, Гавриил архангел, ангел-архангел, Спас дорогой и Богородица добрая, [Умереть] во времечко, какое бывает в Иванов день, Тепло, какое бывает в пору Петрова дня.',\n",
       "  'На тех лугах по обеим сторонам бегут медовые реки-реченьки, И горы хлеба нескончаемые в тех местах.',\n",
       "  'Петра архангела престолы там разместились От края и до края, от одной земли до другой земли.',\n",
       "  'Всевозможные там яства и пития бесконечные.',\n",
       "  'Кабы я могла для своей душеньки выкупить Местечко в таком престольном месте?'])"
      ]
     },
     "execution_count": 10,
     "metadata": {},
     "output_type": "execute_result"
    }
   ],
   "source": [
    "paragraphs['from'][0], paragraphs['to'][0]"
   ]
  },
  {
   "cell_type": "code",
   "execution_count": 56,
   "metadata": {},
   "outputs": [
    {
     "data": {
      "image/png": "[encoded data removed]",
      "text/plain": [
       "<Figure size 800x800 with 1 Axes>"
      ]
     },
     "metadata": {},
     "output_type": "display_data"
    }
   ],
   "source": [
    "vis_helper.visualize_alignment_by_db(db_path, output_path=\"alignment_vis.png\", lang_name_from=lang_from, lang_name_to=lang_to, batch_size=400, size=(800,800), plt_show=True)"
   ]
  },
  {
   "cell_type": "markdown",
   "metadata": {},
   "source": [
    "## Опциональная часть. Нужна только, чтобы читать книги с параллельным переводом"
   ]
  },
  {
   "cell_type": "code",
   "execution_count": 57,
   "metadata": {},
   "outputs": [
    {
     "name": "stdout",
     "output_type": "stream",
     "text": [
      "conflicts to solve: 5\n",
      "total conflicts: 7\n",
      "('3:3', 4)\n",
      "('6:6', 1)\n",
      "('5:-1', 1)\n",
      "('24:30', 1)\n"
     ]
    },
    {
     "data": {
      "text/plain": [
       "defaultdict(int, {'5:-1': 1, '24:30': 1})"
      ]
     },
     "execution_count": 57,
     "metadata": {},
     "output_type": "execute_result"
    }
   ],
   "source": [
    "conflicts_to_solve, rest = resolver.get_all_conflicts(db_path, min_chain_length=2, max_conflicts_len=6, batch_id=-1)\n",
    "\n",
    "resolver.get_statistics(conflicts_to_solve)\n",
    "resolver.get_statistics(rest)"
   ]
  },
  {
   "cell_type": "code",
   "execution_count": 49,
   "metadata": {},
   "outputs": [
    {
     "name": "stdout",
     "output_type": "stream",
     "text": [
      "56 A bošši sanow: \"Tüändiät d’o minuw d’ogirandah!\"\n",
      "57 Tüättih, ga cuarin poigu d’äl’l’es l’ähti.\n",
      "58 Häi ku menöw vezirandah dai sanow: \"Oi, sestrica Ol’onuška!\n",
      "\n",
      "\n",
      "56 А баран и говорит: «Отпустите меня на берег реки!»\n",
      "57 Отпустили, а царевич следом за ним и пошёл.\n",
      "58 Баран как дошёл до берега реки и говорит: «Ой, сестрица Алёнушка!\n",
      "-----------------------------------------------\n"
     ]
    },
    {
     "data": {
      "text/plain": [
       "({56: 'A bošši sanow: \"Tüändiät d’o minuw d’ogirandah!\"',\n",
       "  57: 'Tüättih, ga cuarin poigu d’äl’l’es l’ähti.',\n",
       "  58: 'Häi ku menöw vezirandah dai sanow: \"Oi, sestrica Ol’onuška!'},\n",
       " {56: 'А баран и говорит: «Отпустите меня на берег реки!»',\n",
       "  57: 'Отпустили, а царевич следом за ним и пошёл.',\n",
       "  58: 'Баран как дошёл до берега реки и говорит: «Ой, сестрица Алёнушка!'})"
      ]
     },
     "execution_count": 49,
     "metadata": {},
     "output_type": "execute_result"
    }
   ],
   "source": [
    "resolver.show_conflict(db_path, conflicts_to_solve[4])"
   ]
  },
  {
   "cell_type": "code",
   "execution_count": 32,
   "metadata": {},
   "outputs": [
    {
     "name": "stdout",
     "output_type": "stream",
     "text": [
      "conflicts to solve: 5\n",
      "total conflicts: 7\n"
     ]
    },
    {
     "name": "stderr",
     "output_type": "stream",
     "text": [
      "100%|██████████| 5/5 [00:00<00:00,  6.66it/s]\n"
     ]
    },
    {
     "data": {
      "image/png": "[encoded data removed]",
      "text/plain": [
       "<Figure size 600x600 with 1 Axes>"
      ]
     },
     "metadata": {},
     "output_type": "display_data"
    },
    {
     "name": "stdout",
     "output_type": "stream",
     "text": [
      "conflicts to solve: 0\n",
      "total conflicts: 1\n"
     ]
    },
    {
     "name": "stderr",
     "output_type": "stream",
     "text": [
      "0it [00:00, ?it/s]\n"
     ]
    },
    {
     "data": {
      "image/png": "[encoded data removed]",
      "text/plain": [
       "<Figure size 600x600 with 1 Axes>"
      ]
     },
     "metadata": {},
     "output_type": "display_data"
    },
    {
     "name": "stdout",
     "output_type": "stream",
     "text": [
      "conflicts to solve: 0\n",
      "total conflicts: 1\n"
     ]
    },
    {
     "name": "stderr",
     "output_type": "stream",
     "text": [
      "0it [00:00, ?it/s]\n"
     ]
    },
    {
     "data": {
      "image/png": "[encoded data removed]",
      "text/plain": [
       "<Figure size 600x600 with 1 Axes>"
      ]
     },
     "metadata": {},
     "output_type": "display_data"
    }
   ],
   "source": [
    "steps = 3\n",
    "batch_id = -1 #выровнять все доступные батчи\n",
    "\n",
    "for i in range(steps):\n",
    "    conflicts, rest = resolver.get_all_conflicts(db_path, min_chain_length=2+i, max_conflicts_len=6*(i+1), batch_id=batch_id)\n",
    "    resolver.resolve_all_conflicts(db_path, conflicts, model_name, show_logs=False)\n",
    "    vis_helper.visualize_alignment_by_db(db_path, output_path=\"img_test1.png\", lang_name_from=lang_from, lang_name_to=lang_to, batch_size=400, size=(600,600), plt_show=True)\n",
    "\n",
    "    if len(rest) == 0: break"
   ]
  },
  {
   "cell_type": "code",
   "execution_count": 58,
   "metadata": {},
   "outputs": [],
   "source": [
    "paragraphs, par_ids, meta, sent_counter = reader.get_paragraphs(db_path)"
   ]
  },
  {
   "cell_type": "code",
   "execution_count": null,
   "metadata": {},
   "outputs": [],
   "source": [
    "# НУЖНО ТОЛЬКО ЕСЛИ СОЗДАВАТЬ КНИГУ В HTML\n",
    "# output_path = \"result/karelian_parallel.html\"\n",
    "# paragraphs, par_ids, meta, sent_counter = reader.get_paragraphs(db_path)\n",
    "# paragraphs_from, paragraphs_to = paragraphs['from'], paragraphs['to']\n",
    "# reader.create_book(['from', 'to'], paragraphs, [0], meta, sent_counter, output_path, template=\"simple\")"
   ]
  },
  {
   "cell_type": "code",
   "execution_count": 59,
   "metadata": {},
   "outputs": [
    {
     "data": {
      "text/plain": [
       "(66, 66)"
      ]
     },
     "execution_count": 59,
     "metadata": {},
     "output_type": "execute_result"
    }
   ],
   "source": [
    "len(paragraphs['from'][0]), len(paragraphs['to'][0])"
   ]
  },
  {
   "cell_type": "code",
   "execution_count": 52,
   "metadata": {},
   "outputs": [
    {
     "data": {
      "text/plain": [
       "('Tüättih, ga cuarin poigu d’äl’l’es l’ähti.',\n",
       " 'Отпустили, а царевич следом за ним и пошёл.')"
      ]
     },
     "execution_count": 52,
     "metadata": {},
     "output_type": "execute_result"
    }
   ],
   "source": [
    "paragraphs['from'][0][56], paragraphs['to'][0][56]"
   ]
  },
  {
   "cell_type": "code",
   "execution_count": 42,
   "metadata": {},
   "outputs": [
    {
     "data": {
      "text/plain": [
       "('Никогда она не ненавидела его, она любила, из одной миски кормила, говорит, а, теперь велит зарезать?».',\n",
       " 'Ei ni kows [vihannuh], sanow, suvaičči da ühtes astias süätti, – sanow, a nügöi käsköw iškiä?\".')"
      ]
     },
     "execution_count": 42,
     "metadata": {},
     "output_type": "execute_result"
    }
   ],
   "source": [
    "paragraphs['to'][0][-12], paragraphs['from'][0][-12]"
   ]
  },
  {
   "cell_type": "markdown",
   "metadata": {},
   "source": [
    "# Создаём тестовый набор из Сказок (первый тестовый набор)"
   ]
  },
  {
   "cell_type": "code",
   "execution_count": 38,
   "metadata": {},
   "outputs": [],
   "source": [
    "test_kar = [\n",
    "    \"\"\"Vot Kindahan miehet lähtiettih, kerävyi heidy arteli. Lähtietäh Piiterih, Piiterih talvel. Ajetah. Päivy ajetah kai. Kyläh mennäh yökse ga, mennäh ga, pajistah sillal sallow:\n",
    "- Riet pidäw, - sanow, - kiändyä Piiterih päi, ed ajais, - sanow, - kodih järilleh.\n",
    "No hyvä. A mužikku bokas kuulow. Kuulow bokas ga. Hyö muata vai ruvettih, mužikku otti, riet kiänäldi kai kodih päi järilleh.\n",
    "Lähtiettih huondeksel, hevod val'1'astettih. Lähtiettih Piiterih. Lähtiettih Piiterih ajamah. Ajetah, ajetah gauml\n",
    "- Ka tuaz on, - sanow, - gu rowno meijän sildu! \n",
    "- Sildu sildah koskehhai, eihai, - sallow.\n",
    "Toine sanow gauml\n",
    "- T'uaz on, - sanow, - gu rowno meijän kodi, - sanow. A meijän kylä on tämä! - sanow.\n",
    "- Kylä kyläh koskehhäi, äijyhäi, - sanow, - on kylyä mual.\n",
    "- Ka tuaz on gu rowno minun akku, - sanow, - nygöi sobii pezöw rannas!\n",
    "- Akku akkah eigo koske! \n",
    "Akku ku kuulowhäi:\n",
    "- Oho, propuaššoid! - sanow, - kodihgo tuliitto, iäre ajoitto? \n",
    "Sid hyö kodih tuldih. Sid ei tietty enämbi, kunne pidäw mennä. Dorogu loppih. Enämbi vs'o!\"\"\",\n",
    "\"\"\"Kaksi vellesty elettih yhtes, heile rodih poigulapsi. Brihaččuine kazvatettih, tuattah kuolou (se kupsu). Nu tuattah gu kuollou, hyö oldih raviet kupsat. Tuodih tavarua ulgomerel, käydih tavarah ulgomeren kautti. Vanhin velli oli kaikin ozavin torgudielolois i nygöi sanotah: ”O tammo sen nasledniekan”.\n",
    "Hyö lähtettih nämil purjeil. Tulou heile vastah suari, sanotah:\n",
    "- Voizimmo gu probeijkseh täh suareh, suozimma yön magaizimma.\n",
    "I suareh puututtih hyö. Sie oli kallio. Kallion piäl työnettih laudu, mendih sinne i ruvettih keittämäh syvvä da juvva. Keitettih, syödih, juodih i ruvettih muata. A brihačcuine ei viere muate, a lähtöy kävelemäh. Löydäy vinogruadumarjua, syöy i veröy muate. Vot brihaččuine se gu uinou muate. Diad’at nostih, rodieu perilline tuuli i tahtotah lähtie ielleh, a brihaččustu ei ole. Näit, gu häi syö marjuo i uinoi. Hyö ičitäh, löytä ei, rodieu myödäine tuuli. Hyö duumaijah, häi lähti lavval, kudai oli kallivol, i lähtitäh ielleh. A brihaččuine jäi suarel muate. Brihaččuine gu nouzou, opat’ syöy vinogruadu marjan i opat’ uinou muate, a diädet lähtettih iäres. Erähän kerran nouzou, kävelöy, kaččou: on haudu dai on veräi, a veräis on rengas, a rengahas on kangi. Häi rubei nečidä kangestu lekahuttamah:\n",
    "- Voizingo nečien veriän avata? \n",
    "Häi duumaičči avata veriädy, lekahutti, lekahutti sidä kanges dai sai sen veriän avata. Veriän puutui avata. Häi käččou haudah. Haudas ollah pordahat dai pordahis nojaputkuh voit nojata. Lähti häi, heityi, heityi alah, tuli sinne mual, tuli vastah lagi da senčoi. Kaččou on uksi, täs pidäy olla pertti. Kaččou, on kiägy. Kiägah on opat’ pandu kangi. Häi duumaičči silleh:”Gu voizin nečen uksen avata, kaččozin, midä sie pertis on”. Häi lekahutti sidä kiägie, uksi avavui. Tuli petrih. Pertis valgei ku pihal. Kaččou pertih, pertis on pandu syömine stolal. Sie on äijy piiraidu stolal i viinua četverti. Häi duumaičcou:”Nečis syön nygöi!” Ottau keskes piiruan i syöy. Häi söi sit i duumaičči:”Midä mina nygöi ielleh ruan?” I hai duumaiččou nengoman:”Pidäy menna peittoh päčin tuakse, kačcuo, kedä tah tulou”. Hai konzu hörkitti päčin tagan, tuli puolen päivan aigu – 12 čuassuu. Tulou gospodin-starikku, häi tulou sorzis, kuuzi puarua sorzua räigiey lattiele. Heitti lattiele, otti lihapuan päčis da rubei syömäh. Otti četvertin viinua i kaiken ryyppäi. Syvvä puutui, starikku se söi da vieri muate divanal. Brihaččuine hörkötti päčin tagan. Kuulou: starikku tulou kai perti lekkuu. Brihačcuine duumaičči nengauml”Ku kuadiet starikal ollah leviet, menen kuadieloih peittoh”. F starikku maguau ga perti lekkuu. Häi perzevyksis meni, n’ulahtih. Starikku magai, ylen äijäl pierduu d’uvgai. Nu vot, häi gu pieri äijäl, brihaččuine d’aviv sinne i sanou:\n",
    "- Tuataine, nouze iäreh, poijan sait!\n",
    "Starikku nouzi, sanou:\n",
    "- Hospodi pomilui! Muga minä duumaičin, vačču minul non suuri, olengo minä kohtuine. Kohtuine olen olluh. Täh minun jumal poijan andoi.\n",
    "Starikku rubei hyvin pidämäh sidä brihaččustu, ole nikedä ei, aino poigu! Joga päivie starikku yksikai kävyi sorzih, joga päivie tuou kuuzi puarua sorzua. Händy kazvattau suurekse brihačukse. Kaččou: ”On täyzi mies, voit oman pian syöttiä!” Andau brihačul 12 avaindu, iče lähtöy sorzih merele. Avaimet andau, nevvou:\n",
    "- Yhtestostu laukas syö-juo, kahtestostu älä avua.\n",
    "Yksitostu net kai avai i duumaiččou:”Mindäh häi kahtestostu ei kaskenyh avata?”\n",
    "Häi gu duumaičči silleh, mikse nečen kielli, pidäy nece kaččuo, midä sie on. Avai uksen, kui terväh uksen avai, mugagi terväh siepäi lähti kaksitostu djouččendu iäre. Brihaččuine se duumaiččou, paha mieli rodieu:”Kieldi, ei käskennyh avata, yksikai avain!”\n",
    "Laukan sen salbai, tyhjan laukan, jouččenet lähtettih iäreh. tulou pertih, istuu hörköttäy pahas mieles:”Mikse avain gu ei käsketty!”\n",
    "Puolenpäivän aigua tuli ižandy, kuuzi puarua sorzua heitti lattiel (joga päivie nait toi kuuzi puarua!), jouččenet net ugodittih lendämäh sil starikal vastah. Häi toi net jouččenet järilleh, net kodih toi, lavkah pani järilleh. Brihačul kyzymäh:\n",
    "- Mikse sinä avait? Parahite ugodittih lendiä vasta, parahite ehtin tavata, muuten oldas kai lennetty!\n",
    "Brihaččuine vastuau:\n",
    "- Tuaten’ka, peitties avain, prosti!\n",
    "Starikku prostiu. häi toizin päivin lavkois kävelöy, a sih sydämeh ei mene (lavkois enne vot ikkunat oldih madalat, kai nävyttih, ei gu nygöi). Häi kävelöy, kaččou, midä niis nägyy. Menöy sen lavkan kolkah, kaččou, midä eglaizet eläjät ruatah. Kaččou: kaksitostu neidisty kižatah (jouččenet oldih muututtu neidiziksi). Yksi neidine viidumaičči da tuli hänenluo ikkunalluo pagizemah. Yksi ulgoipäi, toine – pihalpäi pagizemah. Pagizemah meni brihankel läbi ikkunas, vastakkai. Brihal sanou häi:\n",
    "- Ota minuu mučoikse!\n",
    "- Kuibo minä maltan ottua sinuu? – briha vastuau häneleh.\n",
    "Neidine se gu tariččes mučoikse, a briha sanou:\n",
    "- Kuibo minä maltan ottua, munuu tiäten’ka ei vie naita!\n",
    "Neidine sanou brihal silleuml\n",
    "- Tiaten’kale sinä olet armas, ei häi sinun sanua yli mene, naittau, pyrgei vai!\n",
    "Neidine sanou, gu häi andau naijauml\n",
    "- Minun otat mučoikse, minä sinul sanon primietat. Sinun sanua yli mene ei, tule meillyö naimah. Myö olemmo gu yksi, kaksitostu neidisty, kai yksih sobih šuoritettu, bašmakat kaikil jallas. Naimah gu tuletto,- häi sanou,- ga valliče gu pidäy naija. Minä primietät sanon, yhtenmoizet sovat on piäl, yhtenmoizet bašmakat, valliče sinä sid minuu! Sid sinä minuu primieti käzii myöte sinä minuu primieti, käzii myö! Nimetöi sormi lekkuu bokkua myö, lopus sanouml”Tämän otan minä!”\n",
    "Toizen kerran primietan nevvoi neidineuml\n",
    "- Toizen kerran sellittäy uuzih sobih, rouno gu uvvet neidizet. Vot toine primiettu: huruas jallas ukkovarvas lekkuu – se olen minä!\n",
    "Kolmas primiettu nevvou opat’ neidineuml\n",
    "- Tuou opat’ meidy uvvis sovis, seizattau da sanou: ”Valliče nygöi!” Minul oččah lendäy kuldaine karbäine i lad’juo ielleh:”Täman minä otan!”\n",
    "Nu vot, paginat paistut neidizenkel i häi tulou. Hospodinanke hyö eletäh, a häi joga paivie meččäh kävyy. Tulou kodih i sanou:\n",
    "- Tiät’enka, naita nygöi minuu!\n",
    "Tiät’enka vastuau hänelleh:\n",
    "- Mi poigu sinul naimizii pidäy, nuori olet!\n",
    "Häi vie enembän pyrgevymäh rubieu yksikai. Häi gu pyrgihze i rubei naittamah. andoi vallan naimah hänelleh, Vei niin neidizienluo lavkah. Šuoritti neidizet kai yhteh luaduh, tuldih gu yksi. Käsköy:\n",
    "- Valliče, sinä, poigaine mučoi, kudai sinule pädöy!\n",
    "Heil ku pagin oli paistu, nimetöi sormi sil lekkuu bokkua myö. Häi kaččou, kudamal sormi lekkuu bokal myödäh i sanou:\n",
    "- Tämän minä otan!\n",
    "Otti starikku neidizen, toizeh komnattah vei. Vei sie, neidizen sobih suoritti, on gi yksi kai. Toi toizen kerran;\n",
    "- Valliče nygöi, poigaine, kudai sinule pidäy!\n",
    "Häi kačoi: sil neidizel varvas lekkui bašmakas, häi kačoi jalgoi myöte, primieti, kudamal varvas lekui bašmakas dai sanoi:\n",
    "- Tämän minä otan!\n",
    "Opat’ ottau iäres neidizet, komnattah keriäy. Kolmanden kerran tuou neidizet yhtenmoizis sovis, sanou:\n",
    "- Valliče nygöi mučoi!\n",
    "Kolmanden kerran rubei valličemah gu pagin oli heile paistu, häi kaččou: kuldaine kärbäine istuihes oččah, dai sanou:\n",
    "- Tämän minä otan!\n",
    "Kolmanden kerran kačoi, valličči.\n",
    "- Maltoit poigaine vallita, vothäi puutuit naizih. \n",
    "Mučoi davai eläjes ukkuo nevvomah. Hänelleh nevvou, käsköy ukolleh:\n",
    "- Pyrgei sinä kodih, iäres työndämäh,- sanou,- ei ole rakas, ei rubie sinuu työndämäh. Sanouml”En ole sinun poigu!”\n",
    "Nu vot tiäten’kah se kyzyy: \n",
    "- Kuibo,-sanou,- et ole minun poigu?\n",
    "Nygöi rubieu häi iččeh elaigua sanomah tuatalleh.\n",
    "- Vot,- sanou,-minä olin nengomas, nengomas linnas elämäs, minulleni tatin’ka kuoli,-sanou. Myö olimmo, kos tatin’ka kuoli da jäimmö diädelöinke elämah. Ulgo merih diädät lähtettih torguimah i minuu otettih tuatan stuači keral. Siit ajelimmo merdy myö dai tyynistih. Suari nägymäh rubei dai m dai myö menimmö suaren randah čuojuu keittamah, a siit tyynistih. Myö suaren randah piäzimmö. Suaren rannas on moine kallivon randu, siit galitas myö panimmo laudu dai sidä myö menimmö suarel. Söimmö-joimmo, diäd’at muate viertih, a mina lähtin suardu myö kävelemäh. Suarel lövvin ylen čomua vinogruadumarjuo, niidy söin i muate uinoin. minul muate uinota puutui dai hätki puutui muate. Diäd’at havačuittih, minuu löyty ei dai jätettih suarel. Suarel jäin dai hyö lähtettih ajamah. Suares magain, nouzin, opadi vinogruadumarjuo söin dai uinoin. Söin marjua aijän, jo himo lähti, enämbi en syö, muite kävelen suardu myö. Kavelin, kavelin suarel dai tuli haudu vastah, kačon: ”Mi neče havdoi on?” Havvan piäl on kriišku, veräi. Veriäs on rengas dai rengahas on kangi. Sidä minä davai lekuttamah, engo vois avatauml”Midä sie nägyy?” Puutui avata veräi, kačon: havvas on pitkät pordahat dai čurah-toizeh käzipuvu. Puutuin, alah heityin, tuli senčoi vastah dai sie on pertin uksi mendävy. Uksen kiägy, kiägäs kangi opadi. Minä sidä lekutiin dai avain uksen. Pertih menin: ni kedä pertis ei ole. Syömine oli stolal piiraidu oli sih lad’attu, kaikkie, viinua oli četvertine stolal dai četvertine stokan. Minä rubein syömäh, välis piiraidu söin, a viinua en koskenuh. Duumaičin, gu voizuin peittoh piästä:kedä tahto tulou täh. Minä menin peittoh päčin keskeh, kačoin, kedä täh tulou. Minä kačoin, sie hörkistin, sinä, tiatin’ka, tulit pertih, kuuzi puorua sorzua lykkäit lattiel, rubeit syömäh. Viinat kai valot četvertizeh r’umkah i kai kerras joit. Minä peitos sie päčin keskes kačoin midä sinä ruat. Syömäs lähtiit, divanal muate rubeit. Muate vieriit, uinoit äijäl divanal, kai perti lekkuu. Minä viidumaičin: muate uinoit aijäl, nu kui minä sinil jiävimmös. minä smietin muga jiävikseh. Sinul on kodiet suuret, vällät. Minä kuadien perzevyksih menin. Sinä ylen aijäl magait da pierduu muga tuikat dai minä paginan d’iävin, gu tiätin’ka sinä magait dai minuu sait. Nygöi sinul on sanottu, gu minä en ole sinun poigu. \n",
    "- Poigani, maltoin diävikseh, maltoin i vastah ottua. \n",
    "Häi käsköy kodih iäres, muudu ni midä. Tiäten’ka, se starikku, sanou hänelleh:\n",
    "- Tahtot, ga mene, hyvä täs olis olla ga. Poigani,- sanou,- vägivaldua minä sinulles en lai. Tahtot, ga mene. Nygöi, poigani, komet suutkat pidäy vie vuottua, nygöi vie en voi työndie.\n",
    "Kolmet suutkat hyö vuotettih. Tulou meres kolmen suutkan mendyy kaksitostu venehty tavarua sil starikal. Tiäten’ka se astuu randah i kyzyy škipparoil:\n",
    "- Kudamis venehis on parahat tavarat?\n",
    "Kolme venehty andau priduanoikse tyttärel da poijal parastu tavarua, kaikkii kallehemii, gu ni sis linnas ni kuultu ni nähty moizii tavaroi. Troikan andoi i kuldazen karietan, ni siit linnas ni kuultu moizii heboloi da kariettua. Hyö ruvetah lähtemäh iäres, proššaijahes dai häi työndäy tavaroin i venehien viz’at. Kirguu järilleh:\n",
    "- Tule, poigani, mual kohtal järilleh.\n",
    "Tuli mual, häin andoi poijalleh škatulin dai avaimet kädeh:\n",
    "- Na, poigani, ota škatuli,-sanou,- tol’ko škatulin annoin, ga avaindu alä anna mučoile ni kos, avain iče pie. \n",
    "Proššaittahes toine kerdu dai lähtettih venehel škatulinkel. Kirgai vie toizen kerran:\n",
    "- Tules vie, poigani, mual käymäh.\n",
    "Tuli dai kolme luuhuttu andoi hänel kädeh, sanou;\n",
    "- Pane luuhuot tiähtiel dai roih aigu, luuhuot kädeh kabrasta i iče näit midä roihes. \n",
    "Kolmanden kerran proššaittahes dai lähtietah matkah. Astutah, pyhiänpiän aigu, kodiperil astutah. Astuttih, puututtih rodiimoih storonah, sih linnah dai sih samaizih pristanih tullah. rahvas. Rahvas juostah: venehet tullah dai kogo linnu kerdyy sih kaččomah. Dai hänen iččeh diäd’at tullah sih pristanih, häin djavihes sih;\n",
    "- Minä olen nengomua famiiliedu, viego diäd’at hengis ollah?\n",
    "Parahitteh diäd’at ugotittihes pristanil dai sanottih:\n",
    "- Olemmo myö täs diäd’at!\n",
    "- Priimittö työ täs diäd’at minuu elämäh?\n",
    "Diäd’at ihastuttih:\n",
    "- Nu kui emmo priimi, gu puutui vie elävil silmil nähtä.\n",
    "- Passibo, diäd’at, ku priimittö minuu yhteh, autakkua ottua kai tavarat venehes iäre, kai net on minun tavarat. \n",
    "Val’l’astetih hevot, izvoššiekat dai tavarat otettih kluaduloih. Hyö davai elämäh diädel’oinke sii yhtes, puutui omah kodih. Tuli mieli heile gul’aimah lähtie. Val’l’astettih hevot, lähtettih linnuo myö ajelemah, iččie ozuttamah. Hyö istuttihes sih kuldazih kariettoh. Ajetah linnuo myö, parahiteh suarin dvorčua myö pidäy ajua. Ajettih hyö suarin dvorčua myo, a Ivan Tsarevič ugodih heidy nägemäh. suarin poijal hyö kumardettihes, tervehys mennes laittih. Hyö ielleh ajettih. Ivan Tsarevič azetui heidy kaččomah: nengomua hebuo ni kariettua ei nähnyh ni mua tsarstvas. Kuni hyö ajettih i järilleh tuldih Ivan Tsarevič ainos vie siit seizou, hänel se meni vaččah: pideli se mučoi nähta lähembi. Ajelus se prodi, hyö kodih azetuttih elamäh. Suarin poijal lähiči himoitti nähtä i häin azui bualun, gu joga kupsu olis mučoinkel. Sanottih, gu joga kupsu mučoinkel tulis bualuh. Diäd’ot šuorittih, a hänen mučoi ei voi lähtie, vaččua rubieu kivistämäh. Häi yksinah lähti, a mučou ei voi lähtie. Kerruttih kai kupsat, pandih kupsat muččoloi rinnal. stolih puututtih kai. Ivan Tsarevič rubei eččimäh kenentäh luadi bualun dai stolat. Proidi, ei voinnuh löydie i uvvel kupsal sanou:\n",
    "- Muil on mučoit, mindähbo sinul eule muččoi?\n",
    "- Minul mučoi jäi vačan kivistykseh, ei voinnuh lähtie, sil dielol jäi kodih.\n",
    "Jäi kodih ga tsarskoi lakei val’l’asti hevon i lähti ajamah. Hevon troikal azetti, meni pertih, ga mučoi gorniččuo myö proidii, kai bašmakku vonguu, eigo vaččua kivistä. Lakei kyzyy:\n",
    "- Mindäh sinä et tulluh bualuh tsuarin poijal, kai häi oldih emändat dai ižännät kučuttih. \n",
    "Lakeil vastuau mučoil:\n",
    "- Ei minul andanuh venčan aluzii sobii, a et häi lahte riihisovis tsarskoin stolah. En andanuh avaindu škatulis.\n",
    "Tsarskoi lakei kyzyi:\n",
    "- Etgo ni minunkel lähte?\n",
    "Nu vot mučoi vastai hänel, sanou:\n",
    "- En lähte kuni niidy sobii ei rodie minun piäl..\n",
    "Tsarskoi lakei ajau järilleh, vei vieštii, sanou;\n",
    "- Mučoi on terveh, proii gorniččuo myö vai bašmakku vonguu. Bualuh ei tulluh, ku ukkoh en andanuh parahii sobii škatulis, eihäi riihisovis tule tšarskoloih stolah. \n",
    "Ižändy otti, se uuzi kupsu, avaimen oijendi, sanou:\n",
    "- Vie, anna šuoriu parahih sobih.\n",
    "Tsarskoi lakei ajoi, avaimen kädeh mučoil andoi. Mučoi avaimet kädeh otti, škatulin avai, pani škatulin ikkunal, kovran otti, oijendi dai kovru lendi yhtestostu korolevstvas piäliči, kahtendentostu korolevstvah, tuatan korolevstvah. Sinne lendi, kodi jäi yksinäh i lakei lähti tyhjelleh ajamah, gu ei puuttunuh. Lakei tuli dai sanoi, gu dielo nenga on:\n",
    "- Škatulin avai, pani ikkunal, oijendi, istuihes kovral da sanoi:”Lennä, kovru, yhtestostu korolevstvas piäliči, kahtendehtostu korolevstvah”,- sen i näin.\n",
    "Uuzi kupsu jäi mučoittah, hänel tusku meni vaččah dai häi lähti kodih, kai stolat sinne jäi.. Tuli kodih ga kui lakei sanoi, muga gi on. Häi yksinah vuottau pahois mielis, ei voi ni kunne syndyö. Latiettu myö kävelöy, kuni bualu ei lopeh. Loppih se bualu, tullah diad’at kodih, häi diäd’oinke sovetuičeh. Diäd’oloil ilmoittau:\n",
    "- Diäd’at,-sanou,- ongo teile naličnoidu kapitualua min vastah suitettu?\n",
    "Diäd’at hänelleh sanottih. Häin sanou;\n",
    "- Lähten muččoidu eččimah, en ni päesse hänen luo, ga hos kuollen dorogal, ga järilleh en tule, anduat den’gua dorogah. \n",
    "Mi on diäd’elöil kapitualua suitettu, hyö kai annetah hänelleh. den’gat annettih dai lähties sanottih nengauml\n",
    "- Joga kohtu on den’gois tavotettu. Konzu pidänöy den’gua, työnämmö poštua myöte, den’gua gu loppeneh.\n",
    "Häi lähti matkah, kus ajau mašinal, kus venehel, kus jalloi. Kai meni, meni matkoi, meni kahtendehtostu korolevstvah. Sih samah korolevstvah i linnah, kudamah mučoi meni. Puutui sih linnah i nägöy: rahvastu on ylen aijy kerdynyh yhteh kohtah, korolin koin oččah. Häin astuu linnua myö ielleh, linnan agjah, eigo kuulluh, eigo azetunnuh sih šumuh. Häi astui linnan agjah, menöy kaikkii pahimmah mökkih tariččemaheze yöksi. Buabušku yksinäh kois, leskiakku vahnu. Taričceheze yöksi, a leskiakku sanou;\n",
    "- Yöksi se laskizin, ga ei ole syöttiä da juottua nimidä. Häi ähkäi käin kormanih, sanou:\n",
    "- Mene osta syömistä da juomista, onhai linnas laukkoi!\n",
    "Häi lugematta ahkäi den’gua buabuškal, buabuska osti kakkie syömisty-juomistu da vie den’gua jäi. Tuli buabuška kodih syömizen da juomizeke. Syödih da juodih dai häi rubei kyzymäh:\n",
    "- Midä nenga teijän linnas šuumuu pietäh?\n",
    "Buabušku vastuau:\n",
    "- Meijän tytär oli kaksitostu vuottu kavoksis, se tuli nygöi kodih – sidä šuumuu nygöi pietäh. Koroli kuoli, pidäs uuzi koroli, tyttäreh kodavävy, sidä šuumuu pietäh. Ken vois peittyö - se rodizih korolikse, ken ei voi peittyö – piä pois poikki.\n",
    "Vot buabuškal häi sanou:\n",
    "- Minul on gadatel’noi kniigu i zirkalo, lasketannehgo minuu peittymäh. Ei voidanne löydie – minä korolikse, voidanneh löydie – piä poikki.\n",
    "Mučoi puolenpaivässäh maguau, toizen čuasun zirkaloh kaččou da kolmanden čuasun šuorii i gadaiččou, mittuine se on objavlenii. Häi sen mučoin eččii, buabuškal sen dielon objavi i lähti peittymäh. Peittyö pidäy sil aigua konzu mučoi syöy da muate vieröy, kahtes čuasus. Vot dielo hänen piäl hänelleh i roih peittoh lähtendy. Häi puolipäivie roih, syöy dai muate kahtekse čuassuu, sil aigua hänel peittyö pidäy. Peittoh menemäh lähtöy, ottau kädeh kobristau luuhuon, kudaman starikku andoi. Luuhuot peittoh hänen vedäy meren randah. Meres tulou vahnin kala dai hänen ottau suuh- vaččah i vedäy keskimeren n’avale. Mučoi tiä magai, šuorii dai ottau zirkalon dai kahtekse čuasukse gadaiččemah lähtöy. Kaksi čuassuu gadaičči. Gadaičci muan – eule, gadaičči mečät –eule, gadaičči taivahan – eule, gadaičči meren i nägöy; keski mere n’avas kalan vačäs hai on. Dai sanou:\n",
    "- Tule iäre!\n",
    "Löydi kalan, kala toi hänen randah dai työndi iäre. toine päivy tulou. Myös puolen päivan aigua murginan syöy, kaksi čuassuu maguau, čuasun šuorieu da silmät pezöy, kahtekse čuasukse menöy gadaiččemah. Toizen kerran lahtöy peittoh, konzu suarin tyttö maguau. Ottäu luuhuon kädeh, kobristau dai nostau luuhuot händy pilvih. Mučoi nouzi muguamas, kolmanden čuasun šuorii da silmii pezi. Otti kniigan, seizatui zirkalon edeh i rubei gadaičcemah. Gadaiččemah rubieu, kaččou muan, mečän, vien – eule. Kačahtah pilvih, sanou:\n",
    "- Täs olet, tule iäre.\n",
    "Kolmaspäivy tulou. Mučoi puolen paivän aigua syöy, kaksi čuasuu maguau, čuasun šuorii da silmii pezöy i lähtöy kahtekse čuasukse kniigoinke, zirkalon tyveh gadaimah. Nygöi häi magavoaijal ottau kolmanden luuhuon, kädeh kobristau: ”Kunne luuhuot händy peittoh vedäy”. Rubei luuhuot händy vedämäh mučoin fatierah. Dežurnoi saldattu händy ei laske. Sil saldatal häi pokoroiččeh:\n",
    "- Ota den’gua mitahto!\n",
    "Saldattu sanou:\n",
    "- Den’goittah minä rubien piäde menettämah da laskemah sinuu.\n",
    "Häi pyrgiize. a saldattu duumaiččou: ”Sada rubljua andanet – äski viinua juon enne kuolenduo. A se mies vastah:\n",
    "- Ota hot’ kaksi!\n",
    "Den’gua nadoi, lugemattomah nosti, nosti:\n",
    "- Viego pidäy,- kyzyy.\n",
    "- Roiheze, velli,- sanou saldattu, tiä on jo kaksi sadua.\n",
    "Vot sit saldatas piäzi, a toine dežurnoi vie pahembi. Häi pokoroičeh:”Ota, velli, mitahto, vai laske!”\n",
    "Saldattu sanou:\n",
    "- Piädy en rubie menettämäh den’gointäh. No andanet kaksi sadua, ga hot’ juon enne kuolendua.\n",
    "- Ota velli hot’ kolme.\n",
    "Häi op’at nosti dai nosti den’gua, sanou:\n",
    "- Viego pidäy?\n",
    "- Roiheze jo, mene, on täs kolme sadua, hot’ enne kuolendua juon. \n",
    "Kahtes dežurnois piäzi. Vot tulou kolmanden dežurnoin luo. Se ni d’amua panna ei laske. Hot pokoroičceh, pokoroiččeh:”Ota velli mitahto den’gua, vai laske!”\n",
    "- En sinun den’gointah rubie piädy menettamäh. Andanet kolme sadua, ga mene, hot’ enne kuolendua juon.\n",
    "- Ota velli hot’ nelli sadua vai laske.\n",
    "Opat’ den’gua nosti, nosti lugemattah.\n",
    "- Viego pidäy?\n",
    "- Roih jo, mene, on täs jo nelli,- vastai hänel dežurnoi.\n",
    "Kaikis dežurnolois piäzi, komes saldatas. Hai meni komnattah, kaččou: mučoi maguau – helmat ylahän. Otti kobristi luuhuon dai luuhuot händy vieldi zirkalon da kniigoloin välih. Zirkalo oli pečatnoidu levei da pitky, sen tuakse häi seizatui. Häi seizou hörköttäy. Mučoi noizi, šuorii, silmät pezi da meni gadaimah kahtekse čuassuu. Vie rahvas ollah kai pihal, čuasut net proijittih dai kirrutah:\n",
    "- Uraa, meile koroli rodih, sait peityö.\n",
    "Sit häi n’ulähtäy zirkalon tahas. Mučoi sanoi:\n",
    "- Muga ozutti lähäl, a arvata en voinnuh.\n",
    "Häi korolikse puutui, dielot kai priimi kädeh, häi sluužimah i rubei korolinnu. Kudamat saldatat dežurnoit händy piästettih pani vahnembih čiinuloih, a hyö duumaijah muga menöy.\n",
    "Mučoinke elämäh hyö ruvettih, a mučoi häi yksikai armas ei rodinuh. Elettih hyö yhtes kodvaine aigua, käskiettih prusluugale kyly lämmittiä. Prisluugu kylyn lämmitti, käsköy:\n",
    "- Mengiä nygöi kylyh, valmis on. \n",
    "Emändy jaksoiseze, toizet sovat ottau da jarähtäy ylen pahas tavas:\n",
    "- Läkkä iäre nygöi kylyh.\n",
    "Mužikku vastai hänele\n",
    "- Mene, tulen jälles.\n",
    "Mučoi vastai:\n",
    "- Tule libo töllyö!\n",
    "Mužikku se jäi kodih, mučoi lähti kylyh. Mužikku kodih jäi, emändy prisluuganke lähti kylyh. Pertis päčči oli lämmäs, sil aigua parahite mužikku jäi pertih. Häi otti, kovran päččih pani, zirkalon murendi palazikse pal’l’aze. Gadatel’noin kniigan päččih polti. Vot sit sarual meni, otti kolme tervulankua da lähti mučoidu kyl’vettämäh. Menöy kylyh. Prisluugu parahite mučoil selgiä hierou-viihkuttau. Välittyy iäre i ribieu muččoi piäliči olgupiälöi kyl’vettämah. Sit mučoi pageni, pagoh piäzi alači käzis da juoksi alasti kodih. Mužikkal kirguu:\n",
    "- Et minuu hätkie syö-čiihuo, roih terväh agju ičelleh.\n",
    "Häi sendah mugai sanoi, gu duumaičči: on sit kniigat-zirkalot endizelleh. Kodih mučoi meni, zirkalo lattiel paloinnu, kniigoga rabaih eule., kovrua rabaih eule. Kačoi häi – kai murennuh on, ole nimidä ei. Häi järilleh kylyh ukolluo. Ukolleh vieri jalgoi, sanoi:\n",
    "- Kai hattar viet juon, kuundelemeh rubien mugalei. \n",
    "Vot sit kyly kylbettih dai ruvettih hyvin elämäh. Mučoi kuundelemah händy, a ukko – korolinnu. Työndi diäd’oileeh kirjazen:”Minä olen tiäl korolinnu, kodih minuu älgia vuotakkua. Elän hyvin dai piäzin endizen mučoinke elämäh.\n",
    "Staarii-maalii, devitsa-vdovitsa – umnaja ukaza, perälinnoi prikaza/ Eto skazka ne skazka, skazka budet huondeksel hutun syödyy.\"\"\",\n",
    "\"\"\" On ennen tijani. Luatiu pesän pajikolla. Muniu kolme jiäliččyä. Hautou ne\n",
    "jiäličät. Tulou kolme poikaista. Lähtöy pojillah ruokua eččimäh. Mitä kärpäistä\n",
    "suanou, niitä syöttäy poikasillah. Tulou kontie pajikon luokse, missä on tijasen\n",
    "pojat. Pojat jo piästih lentoh ta lennettih koivun oksilla. Kontie siänty\n",
    "pahapäiväsekse, söi pesän tai pajikon revitteli. Tulou tijani. Kontie mäni meččäh.\n",
    "Kaččou, kun on pajikko revitelty, pesä syöty ta i pojat mihi lienöy suatu.\n",
    "Pojat sanotah koivun oksiltauml\n",
    "– Myö olemma, muamo, tiälä. Kun tuli mi lienöy hyvin suuri ta rupei meitä\n",
    "syömäh, myö pakoh. Pesän söi tai pajikon revitteli.\n",
    "Tijani sanou:\n",
    "– Oliko miun suurus?\n",
    "Pojat sanotah:\n",
    "– Et ole ni silmän suurus sie, niin suuri oli.\n",
    "Tijani pörhistäy sulkah, siipeh ta kysyy:\n",
    "– Oliko näin suuri?\n",
    "Pojat sanotah:\n",
    "– Et ole ni korvan suurus, se oli niin suuri.\n",
    "Tijani arvuau, jotta kontie oli. Kysyy pojiltah:\n",
    "– Mihi päinpä läksi se suuri mänömäh?\n",
    "Pojat sanotah:\n",
    "– Tuonne mäni meččäh.\n",
    "Tijani sanou pojillah:\n",
    "– Työ olkua tässä, mie lähen suan hänen kiini ta vien suutuh.\n",
    "Läksi tijani lentämäh tai sai kiini, tarttu hänellä korvah, sanou:\n",
    "– Siekö miun pojat ajoit pesästä, pesän söit, ta pajikon revittelit?\n",
    "Kontie sanou:\n",
    "– Mie.\n",
    "Tijani sanou:\n",
    "– Mitä sie siinä ruavoit?\n",
    "Kontie sanou:\n",
    "– A mie olen sieltä syöjä, sieltä suaja, miun pitäy syyvvä, mitä mistä suan.\n",
    "Tijani sanou:\n",
    "– Lähe suutuh linnalla.\n",
    "Tai viey tijani kontien suutupaikkah. Sanou sut’jallauml\n",
    "– Tämä kontie miula pahua ruato, mitä suutit nyt?\n",
    "Sutja sanou:\n",
    "– Suutimma myö hänen hännättömäkse.\n",
    "Kontie sanou:\n",
    "– Elkyä työ miulta suutikkua koko häntyä, jättäkkyä puoli häntyä.\n",
    "Kontiella puoli häntyä jätettih. Tijani läksi poikieh luo. Kontie mäni\n",
    "meččäh ta itköy, kun häneltä puoli häntyä suutittih.\n",
    "Tulou repo vastah kontiella, kysyy:\n",
    "– Mitä itet, kontie?\n",
    "Kontie sanou:\n",
    "– Iten kun hännättömäkse suutittih, vain ei ne koko häntyä, kuin puoli häntyä.\n",
    "Repo sanou:\n",
    "– Lähe meilä, rupiemma yhessä elämäh.\n",
    "Siitä männäh kontien keralla revon kotih. Repo on löytän matikkakesselin.\n",
    "(Tuommosen kuin siun kesseli tuola nurkassa.) Repo ta kontie ruvettih\n",
    "kuomaksikse. Kontie kysyy:\n",
    "– Mistä sie, kuomasen, olet matikkua suanun?\n",
    "Repo sanou:\n",
    "– Ka mie olin onkella viime yönä.\n",
    "– Mistä sie, kuomasen, onkitit ta millä?\n",
    "– Mie mänin pappilan avantoh, ta pissin häntäni. Joka karvah tarttu\n",
    "matikka.\n",
    "Kontie sanou:\n",
    "– Lähen ni mie, on miula vielä puoli häntyä.\n",
    "Läksi kontie onkella. Se on jo pimie ilta.\n",
    "Kontie mänöy, panou häntäh avantoh, ta iče avannon piällä istuutuu\n",
    "rähähtäy.\n",
    "On hyvin pakkani yö.\n",
    "Kontielta alko häntyä näpissellä pakkani, kun alko kylmyä avantuo.\n",
    "Kontie ajattelou:\n",
    "– Nyt niitä puuttuu, kun alko näin näpissellä häntyä. Pitäy nostua nämä\n",
    "matikat jiän piällä, ni siitä onkitan toista.\n",
    "Kontielta koko takapuoli kylmi avantoh, ajattelou:\n",
    "– Nyt tarttu niin äijän matikkua, jotta en suata nostua.\n",
    "Ei piäse kontie avannosta, siinä istuu.\n",
    "Huomeneksella pappilan piijat tullah vejellä. Lyyvväh korennolla kontieta.\n",
    "Kontie kisalti häntäh, puoliki häntyä jäi sinne. Hiän mänöy revon luo, sanou:\n",
    "– Niin äijäkö lienöy puuttun matikkua, vain lienöykö siitä häntä katen, kun\n",
    "pappilan piijat korennolla lyötih.\n",
    "Repo sanou:\n",
    "– Kun et liikutellun, niin se kylmi. Mie luajin tulen tähä, niin lämpiet. Repo\n",
    "kokoi tervasta ta luati tulen. Kontiella sanou:\n",
    "– Istuuhu, kuoma, tähä tulen piällä lämpiemäh.\n",
    "Kontie siihi palo ta repo iče pakoh. Muutki kontiet jäi hännättömikse, kun\n",
    "siltä yheltä kontielta oli häntä suutittu.\"\"\",\n",
    "\"\"\"Ukko ta akka oltih jo vanhat. Ruvettih hyö kiukualla muate. Pirtin piällä\n",
    "tuli orava. Sielä lotajau, krapajau, ei anna heilä yörauhua. Akka sanou ukollauml\n",
    "– Mäne pane lautani pirtin piällä, eikö se orava puutu.\n",
    "Ukko nousi pirtin piällä ta pani sinne lautasen. Tuli takasin pirttih, rupei\n",
    "muate. Jo orava tuas ni tuli pirtin piällä. Tai puuttu lautaseh. Sielä lotajau\n",
    "lautasessa. Akka sanou ukollauml\n",
    "– Mäne ota, jo orava puuttu lautaseh.\n",
    "Ukko nousou pirtin piällä, rupei ottamah oravua lautasesta. Tai toreuvuttih\n",
    "ukko ta orava. Orava kun löi korvalla ukkuo, hiän i kirpoi pirtin piältä. Ukko\n",
    "kuoli. Orava otti salmosta ahkivon ta pani ukon ahkivoh. Läksi vetämäh ukkuo\n",
    "ahkivossa. Tuli jänis vastah, kysyy oravaltauml\n",
    "– Mitä vejät, orava?\n",
    "Orava sanou:\n",
    "– Vejän ukkuo, hyvyä miestä.\n",
    "Pani pihet pirtin piällä,\n",
    "Lautasen lapukin piällä,\n",
    "Iče puuttu pihtihih,\n",
    "Lankei lautasih –\n",
    "Miula, mečän juoksijalla,\n",
    "Rahakarvan kantajalla,\n",
    "Huutehessa huksajalla,\n",
    "Hämärässä häkläjällä.\n",
    "Jänus sanou:\n",
    "– Ota milma vetämäh.\n",
    "Orava sanou:\n",
    "– Haukkua palani ukkuo tai vejämmä kahen.\n",
    "Lähettih vetämäh. Vejetäh kotvani. Tulou hukka vastah, kysyy:\n",
    "– Mitä vejät, jänis?\n",
    "– En mie vejä, orava vetäy, – sanou jänis.\n",
    "Hukka kysyy:\n",
    "– Mitä vejät, orava?\n",
    "– Vejän ukkuo, hyvyä miestä.\n",
    "Pani pihet pirtin piällä,\n",
    "Lautasen lapukin piällä,\n",
    "Miula, mečän juoksijalla,\n",
    "Rahakarvan kantajalla,\n",
    "Iče puuttu pihtihih,\n",
    "Lankei lautasih.\n",
    "Sanou orava hukallauml\n",
    "– Haukkua palani ukkuo ta lyöttäyvy vetämäh.\n",
    "Vejetäh vähän aikua. Tulou kontie vastah.\n",
    "– Mitä vejät, hukka?\n",
    "– En mie vejä, jänis vetäy.\n",
    "– Mitä vejät, jänis?\n",
    "– En mie vejä, orava vetäy (orava kun on isäntä).\n",
    "Orava sanou kontiellauml\n",
    "– Syö ukkuo palani ta lyöttäyvy vetämäh.\n",
    "Kontie i söi ukon niin, jotta jäi vain muruni piätä ahkivoh.\n",
    "Tulou repo vastah, kysyy:\n",
    "– Mitä vejät, kontie?\n",
    "– En mie vejä, hukka vetäy.\n",
    "Hukka sanou:\n",
    "–En mie vejä, orava vetäy.\n",
    "– Mitä vejät, orava?\n",
    "Orava sanou:\n",
    "– Vejän ukkuo, hyvyä miestä.\n",
    "Pani pihet pirtin piällä,\n",
    "Lautasen lapukin piällä,\n",
    "Miula, mečän juoksijalla,\n",
    "Rahakarvan kantajalla,\n",
    "Huutehessa huksajalla,\n",
    "Hämärässä häkläjällä.\n",
    "Iče puuttu pihtihih,\n",
    "Lankei lautasih.\n",
    "Orava sanou revollauml\n",
    "– Syö tuo loppuni ukko.\n",
    "Repo söi sen viimesen piäpalasen. Vejetäh tyhjyä ahkivuo koko joukolla.\n",
    "Kontie sanou:\n",
    "– Nälkä tuli. Ku pienin, ku pienin, se syyvväh!\n",
    "Orava syötih. Vejettih tuas vähäni aikua, kontie tuas sanou:\n",
    "– Nälkä tuli. Ku pienin, ku pienin, se i syyvväh!\n",
    "Jänis syötih. Repo sanou hukallauml\n",
    "– Läkkä pakoh. Syöy miät kontie.\n",
    "Hukka ta repo meččäh pakoh juoksomah. Kontie vetäy yksinäh tyhjyä ahkivuo.\n",
    "Sanou kontieuml\n",
    "– Nälkä tuli. Ku pienin, ku pienin, se i syyvväh!\n",
    "Käcahtau jälelläh: ei ni ketänä matalla, kun tyhjä ahkivo. Kontie siänty\n",
    "pahanpäiväsekse. Löi ahkivon puuhu säpälehikse, iče läksi meččäh. Siihe i\n",
    "loppu starina\"\"\"\n",
    "]\n",
    "test_rus = [\n",
    "    \"\"\"Вот поехали киндасовские мужики, собралась их целая артель. Едут в Питер, в Питер зимой. Едут. Целый день едут. В деревню заезжают на ночь, заезжают, да и разговаривают на мосту, говорит [один]:\n",
    "- Возы надо, - говорит, - повернуть оглоблями в сторону Питера, не поехать бы, - говорит, - обратно домой.\n",
    "Ну хорошо. А мужик со стороны слышит. Слышит со стороны. Они только легли спать, мужик взял сани все повернул обратно, в сторону дома.\n",
    "Собрались утром, лошадей запрягли. Поехали в Питер. Отправились в Питер. Едут, едут, так:\n",
    "- Да тут, - говорит, - будто наш мост.\n",
    "Мост на мост приходится ведь, не без этого, - говорит.\n",
    "Второй и говорит:\n",
    "- Там, - говорит, - как будто наш дом, - говорит. - А это наша деревня, - говорит.\n",
    "- Деревня с деревней сходится, ведь много же, - говорит, - деревень на свете.\n",
    "- Да вон будто бы как моя жена, - говорит, - сейчас белье стирает на берегу.\n",
    "- Жена с женой разве не бывают схожи?\n",
    "Жена-то как услышит:\n",
    "- Ох, вы, окаянные, - говорит, - домой и возвращаетесь, обратно приехали!\n",
    "Тут они домой приехали. Потом не знали больше, куда надо ехать. Дорога кончилась. Больше - всё.\"\"\",\n",
    "\"\"\"Два брата жили вместе, у них родился сын. Вырастили мальчика, отец умер (тот купец). Отец как умер, а они были богатые купцы. Привозили товар из-за моря, за товаром ездили за море. Старший брат был самым удачливым в торговых делах, они и говорят: «Возьмем этого наследника».\n",
    "Отправились они на этих парусах, увидели впереди остров, говорят:\n",
    "- Сможем ли мы пробиться к этому остову. смогли бы там переночевать.\n",
    "Попали они на остров. Там была скала. На вершину скалы протянули доску, пробрались на остров, стали есть-пить готовить. Приготовили еду, поели-попили, стали спать укладываться. А мальчик не ложиться спать, отправился гулять. Нашел он виноградные ягоды, поел их и спать лег. Проснулись дяди, попутный ветер, хотели дальше в путь отправиться, а мальчика нет. Видишь, он ягод поел и уснул. Они искали, найти не смогли. Подул уже встречный ветер. Подумали дядюшки, что взобрался он на доску, что к скале приставлена, и поехали дальше, а мальчик остался на острове спать. мальчик снова проснулся, еще раз виноградных ягод поел и опять уснул, а дядюшки уехали. В очередной раз встал, ходит-смотрит: там яма, в ней дверь, на двери - ручка, в ручке – палка.\n",
    "- Смогу ли я эту дверь открыть?\n",
    "Думал он дверь открыть, трогал он трогал эту палку и открыл эту дверь. смог он дверь открыть. смотрит он в эту яму. В яме лестница, по лестнице можно спуститься. Он спустился вниз на землю, увидел там потолок и коридор. Смотрит: там дверь, за ней может быть комната. Видит – ручка. В ручке опять палка продета. Он так думает: «если бы я смог эту дверь открыть, увидел бы, что там в комнате». Дверь открылась. Вошел он в комнату. В комнате светло, как на улице. Смотрит – а там стол накрыт. Много пирогов на столе и вина четвертинка. Он думает: «Теперь я тут поем!» Берет с серединки пирог, ест его. Съел он и думает: «Что я дальше делать буду?» он так подумал: «надо за печкой спрятаться, посмотреть, кто сюда придет». Он когда спал-посапывал за печкой, время пришло к полудню, к 12 часам. Пришел старик-господин, он пришел уткой (с утками), шесть пар утор на пол кинул. Кинул на пол, взял с печи чугунок с мясом и стал есть. Взял вина четверть и все выпил. Удалось поесть, поел старик и лег спать на диван. Мальчик посапывал за печкой. Слышит: идёт старик – комната шатается. Мальчик так думает: «Кальсоны у старика широкие, спрячусь я в кальсонах». А старик спит – комната шатается. Он сзади в кальсоны пробрался- проскользнул. Старик спал, очень сильно пукал. Он как сильно пукнул, мальчик появился и говорит:\n",
    "- Отец, просыпайся, ты сына родил!\n",
    "Старик проснулся, говорит:\n",
    "- Господи помилуй! Так я и думал, живот у меня большой, неужели я беременный. Беременный оказался. Здесь мне Бог сына послал.\n",
    "Старик стал за ним, за тем мальчиком, хорошо ухаживать: не было у него никого, единственный сын! В каждый день он все равно ходил за утками. Вырастил он мальчика. Смотрит: «Уже взрослый мужчина, можешь свою голову прокормить!» Дает мальчику 12 ключей, сам на море за утками отправился. Ключи дал. говорит:\n",
    "- В одиннадцати лавках ешь-пей, а двенадцатый не открывай!\n",
    "Одиннадцать все мальчик открыл и думает: «Почему же он двенадцатый не позволил открыть?»\n",
    "Он так думает, почему этот запретил открывать, надо его посмотреть, что там. Открыл дверь. Как он только дверь открыл, так сразу оттуда 12 лебедей вылетело. Думает мальчик: «Запретил ведь, не разрешал открывать, все равно открыл!»\n",
    "Закрыл ту лавку, пустую лавку, лебеди улетели. Зашел в дом, сидит сердитый, думает: «зачем открыл, ведь не разрешили!»\n",
    "В полдень пришел хозяин, шесть пар уток на пол бросил (в каждый день приносил по шесть пар уток), а лебеди те как раз навстречу старику прилетели. принес он тех лебедей обратно, домой принес, в лавке запер опять. Стал у мальчика спрашивать:\n",
    "- Зачем ты открыл? Хорошо мне навстречу попались, успел поймать, не то уже улетели бы!\n",
    "Отвечает мальчик:\n",
    "- Тятенька, случайно открыл, прости!\n",
    "Старик простил. На другой день он по лапкам ходит, а туда (в 12) не заходит (в лавках раньше окна были низкие, все было видно, не то, что теперь). Встал на углу 12 лавки, смотрит, чем его жильцы там занимаются. Смотрит: 12 девушек играют (лебеди в девушек превратились). Одна девушка подошла к окну, стала с парнем разговаривать. Один снаружи, другой – изнутри, так разговаривают. девушка с парнем разговаривают там через окно. Парню она говорит:\n",
    "- Возьми меня в жены!\n",
    "- Как же я тебя возьму?- парень ей отвечает.\n",
    "Девушка замуж просится, парень ей отвечает:\n",
    "- Как же я могу взять, тятенька меня еще не женит!\n",
    "Девушка так говорит парню:\n",
    "- Тятенька тебя любит, поперек твоих слов не пойдет, попросись жениться!\n",
    "Девушка говорит, что тятенька позволит ему жениться:\n",
    "- Меня в жены возьмешь, я скажу тебе приметы. Поперек твоих слов не пойдет, приходи к нам жениться. Мы все двенадцать похожи друг на друга, все в одинаковую одежду одеты, у всех башмаки на ногах. Как жениться придешь,- она говорит,- выбирай, если хочешь жениться. Я приметы скажу, одинаковая у нас одежда. одинаковые башмаки, выбери ты меня! Ты меня узнай по рукам, по рукам! Безымянный палец у меня шевелиться будет. В конце скажи: «Эту в жены возьму!»\n",
    "Поведала девушка на другой раз примету:\n",
    "- Во второй раз оденет в новую одежду, будто бы другие девушки перед тобой появятся. Вот вторая примета: на правой ноге большой палец шевелиться – это буду я!\n",
    "Третью примету опять рассказала девушка:\n",
    "- Приведет опять нас в новой одежде, поставит в ряд и скажет: «Выбирай теперь!» Мне лоб сядет золотая муха, ты и скажи: «Эту я возьму в жены!»\n",
    "Поговорил он с девушкой и приходит хозяин. С господином они живут, он в каждый день в лес ходит. Вернулся оно домой, сын ему говорит:\n",
    "- Тятенька, жениться я хочу!\n",
    "Тятенька ему отвечает:\n",
    "- Что тебе за женитьба, молодой еще!\n",
    "Еще больше стал он просить все равно. он как стал проситься жениться, разрешил ему хозяин. Отвел к девушкам в лавку. Девушек одел в одинаковые одежды, пришли все как на одно лицо. Говорит:\n",
    "- Выбери теперь ты, сыночек, себе жену, какая тебе по нраву!\n",
    "Они как заранее условились: безымянный палец шевелиться должен. Парень смотрит: безымянный палец по боку шевелиться и говорит:\n",
    "- Эту я возьму!\n",
    "Собрал старик девушек, в другую комнату увел. Там он их в одежды одел, все как на одно лицо. привел во второй раз:\n",
    "- Выбери теперь, сынок, какая девушка тебе по нраву!\n",
    "Он смотрит: у девушки палец в башмаке шевелится. Он смотрит по ногам, у которой палец в башмаке шевелиться, и говорит:\n",
    "- Эту я возьму!\n",
    "Снова старик девушек увел, собрал в другой комнате. В третий раз привел девушек в одинаковой одежде, говорит:\n",
    "- Выбирай теперь жену!»\n",
    "В третий раз стал выбирать, как было условлено, он смотрит, кому золотая муха на лоб сядет. он говорит:\n",
    "- Эту я возьму!\n",
    "На третий раз смотрел и выбрал.\n",
    "Смог ты, сыночек, выбрать, можешь жениться.\n",
    "Жена стала мужа учить. Ему говорит, указывает:\n",
    "- Попросись ты домой,- говорит. Не захочет он тебя отпускать. Скажи ему, что ты не его сын.\n",
    "Вот тятенька и спрашивает:\n",
    "- Как же ты не мой сын?\n",
    "- Так, говорит,- я жил в том-то, в том-то городе. У меня умер тятенька, Остался я жить с дядюшками. За моря поехали дяденьки торговать и меня взяли за место отца. Плыли мы по морю, море стихло. Увидели мы остров, стали мы к берегу приплывать, чтобы чаю там попить. Приплыли мы к берегу острова. Берег там был скалистый, мы с галиоты скинули доску и по ней пробрались на остров. Поели-попили, дяденьки спать легли, а я пошел по острову гулять. Нашел я на острове очень красивые виноградные ягодки, их я поел и уснул. Уснул я и проспал долго. Дяденьки проснулись, не нашли меня, так на острове и оставили. На острове я остался, а они уехали. Спал я на острове, проснулся. Опять виноградных ягод поел и уснул. Много я ягод поел, уже не хотелось больше, перестал есть, просто по острову гулял. Гулял-гулял, увидел яму, думаю, что это за яма? Яма накрыта крышкой, на ней дверь. На двери кольцо, на кольце – ручка. Ее я стал шевелить, может смогу открыть. «Что там видно?»- думаю. Удалось дверь открыть, смотрю: в яме длинная лестница и по обе стороны ручки. Туда я попал, в яму спустился, увидел коридор и дверь, которая в комнату ведет. На дверях запор, в запоре ручка. Я ее пошевелил – и открыл дверь. Вошел в комнату – там никого. На столе еда, пирогов всяких наложено, вина четвертинка и стакан в четвертинку. Стал я еду пробовать, пироги в промежутке, а вина не трогал. Думал, что надо бы мне спрятаться: кто-нибудь наверняка сюда придут. спрятался я за печку, смотрю. кто в комнате появиться. сижу я там тихонечко, а ты, тятенька, в комнату пришел, шесть пар уток на пол бросил и стал есть. вино все в четвертинную рюмку вылил и все выпил. Я там тихонько из-за печки смотрел, что ты делаешь. Поел ты, стал на диване спать. Спать стал, крепко на диване уснул, даже дом зашевелился. Я придумал: коль ты крепко уснул, я там и появлюсь. Так я решил появиться. У тебя кальсоны широкие, свободные. Я в кальсоны сзади забрался. Ты очень крепко спал, попукивал. Я и стал говорить, что, тятенька, ты спал и меня на свет родил. Теперь я тебе рассказал, что я не твой сын.\n",
    "- Сыночек, сумел появиться, сумей и выслушать.\n",
    "Парень домой просится, больше ничего ему не надо. Тятенька, этот старик, ему говорит:\n",
    "- Хочешь – ступай, хотя тебе и здесь было бы хорошо. Сыночек,- говорит он,- удерживать тебя не стану. Хочешь – ступай. Только теперь еще трое суток надо подождать, сразу не могу отпустить.\n",
    "Трое суток они подождали. Пришли с моря через трое суток 12 лодок, привезли товар старику. Тятенька идет на берег моря и у шкиперов спрашивает:\n",
    "- В какой лодке лучший товар?\n",
    "Три лодки собрал он приданого дочери и сыну лучшего товару, самого дорогого товару, ни в каком городе не видели и не слышали о таком товаре. Дал он им тройку и золотую карету, даже в том городе не слышали о таких тройках и каретах. Стали они в дорогу собираться, отпускает он их. Потом снова кричит:\n",
    "- Вернись, сынок, снова на землю!\n",
    "Вернулся парень на землю, дал старик сыну шкатулку и ключи:\n",
    "- Возьми, сынок, шкатулку,- говорит,- только как дал я тебе шкатулку, не давай ее жене никогда, ключ при себе держи.\n",
    "Попрощались во второй раз, поехали в лодке со шкатулкой. Во второй раз кричит:\n",
    "- Вернись, сынок, еще на землю!\n",
    "Вернулся парень, старик ему три косточки дал и говорит:\n",
    "- Сохрани эти косточки, придет время, в руку их возьми, сам увидишь. что получится.\n",
    "В третий раз попрощались и отправились в дорогу. Едут, дело было в воскресный день, домой едут. Ехали и попали на родную сторону, в тот самый город. на ту самую пристань. Народ бежит: лодки к берегу подошли, народ собрался их смотреть. И его родные дядюшки на пристань пришли. Парень там говорит:\n",
    "- Я такой то фамилии, еще ли живы мои дядюшки?\n",
    "В это самое время дядюшки были на пристани, они говорят:\n",
    "- Тут мы, твои дядюшки!\n",
    "- Примите ли вы меня к себе жить?\n",
    "Дядюшки обрадовались:\n",
    "- Как же не примем, коль посчастливилось еще на этом свете увидеть.\n",
    "- Спасибо, дядюшки, за то, что приняли меня к себе, помогите товар с лодок разгрузить, это все мой товар.\n",
    "Запрягли лошадей, извозчики весь товар уложили в ящики. Стали они с дядюшками вместе жить, попал он в свой дом. Захотелось молодым погулять пойти. Запрягли лошадей, поехали по городу себя показать. Они очень обрадовались этой золотой карете. Ехали они по городу, как раз мимо царского дворца надо ехать. Ехали они мимо царского дворца, Иван Царевич их увидел. Поклонились они царскому сыну, поздоровались с ним и дальше поехали. Иван Царевич остановился на них посмотреть: такой кареты не видела даже земля в этом царстве. Пока они ехали и снова возвращались по той же дороге, Иван Царевич на одном месте стоял. Одна мысль в нутро засела: хотелось очень на жену вблизи посмотреть. Закончилась эта прогулка, пошли они в дом. А царскому сыну вблизи хотелось на жену посмотреть, и он решил собрать бал, чтобы все купцы были на нем с женами. Было объявлено, чтобы все купцы пришли с женами на бал. Дядюшки оделись, а жена у парня не может пойти: живот стал болеть. Он все равно пошел. Собрались все купцы, встали они с женами рядом. За столы всех усадили. А Иван Царевич стал искать ту, из-за которой он бал собрал и угощения на стол. Прошелся по дворцу, не мог найти. Спрашивает у нового купца:\n",
    "- Все с женами пришли, где же твоя жена?\n",
    "- У моей жены живот заболел, не смогла пойти на бал, по этой причине дома осталась.\n",
    "Дома осталась, но царский лакей коня запряг и поехал. Тройку запряг, в дом вошел, а жена по горнице вышагивает, даже башмаки звенят: не болит живот. Лакей спрашивает:\n",
    "-Почему ты на бал к царскому сыну не пришла, всех хозяек с хозяевами позвали.\n",
    "Отвечает жена лакею:\n",
    "- Не дал мне муж подвенечного наряда, не пойдешь ведь на бал в лохмотьях. Не дал мне ключа от шкатулки.\n",
    "Царский лакей спрашивает:\n",
    "- А со мной не поедешь?\n",
    "Жена ему отвечает:\n",
    "- Не поеду, пока той одежды на мне не будет.\n",
    "Поехал царский лакей обратно, привез весть, говорит:\n",
    "- Жена та здорова, по горнице ходит – только башмаки скрипят. А на бал не пришла потому, что не дал ей муж лучших нарядов, не пойдешь ведь в лохмотьях за царский стол.\n",
    "Взял хозяин, тот новый купец, подал ключ и говорит:\n",
    "- Отвези, скажи, пусть одевается в лучшие одежды.\n",
    "Царский лакей поехал, ключ в руки жене отдал. Жена ключи в руки взяла, шкатулку открыла, подняла ее на подоконник, взяла оттуда со шкатулки ковер, его расправила. Полетел ковер через одиннадцать королевств в двенадцатое королевство, в королевство отца. Туда улетело. Дом пустой остался и лакей с пустыми руками обратно поехал, не смог он жену привезти. приехал лакей, говорит. что так и так дело было:\n",
    "- Шкатулку открыла, на подоконник положила, села на ковер: «Лети, ковер, через одиннадцать королевств в двенадцатое королевство,- это я видел.\n",
    "Новый купец без жены остался, тоска его заела, и он пошел домой, угощения там остались. Пришел домой: все так, как лакей сказал. Он ждет один в плохом настроении, не знает, куда себя деть. Ходит по комнате, пока бал не закончился. А бал как закончился, пришли дядюшки домой, он с ними советуется, дядюшкам объявляет:\n",
    "- Дядюшки, - говорит,- сколько наличного капитала у вас накоплено?\n",
    "Ответили ему дядюшки. Он опять говорит:\n",
    "- Пойду я жену свою искать, хоть и не доберусь до нее, хоть и умру где по дороге, но обратно не вернусь. Дайте мне на дорогу денег.\n",
    "Сколько у дядюшек капитала было собрано, все ему отдали, деньги отдали, а перед дорогой сказали так:\n",
    "- В любом месте мы от денег зависим. Когда тебе деньги понадобятся, отправим тебе по почте, если деньги закончатся.\n",
    "Отправился он в путь, где на машине едет, где на лодке, где пешком. Все прошел, прошел дороги, оказался в двенадцатом королевстве. Пришел в то самое королевство и город. куда жена ушла. Очутился в том городе и видит: народу очень много собралось в одном месте, под передней стеной короля. Он пошел по городу дальше, в конец города, не слышал и не остановился на этот шум. Пришел он на окраину, в самую дряхлую избушку просится переночевать. Бабушка там одна дома. старая вдова. просится он на ночлег, а вдова ему говорит:\n",
    "- Пустила бы на ночь, да нечем накормить-напоить.\n",
    "Он руку в карман запустил, говорит:\n",
    "- Иди купи поесть-попить. есть же в городе лавки!\n",
    "Он не считая денег сунул бабушке, взяла их бабушка, купила всего поесть-попить, да еще денег осталось! Пришла бабушка домой с едой-питьем. Поели-попили и он стал спрашивать:\n",
    "- Чего это в вашем городе такой шум?\n",
    "Отвечает бабушка:\n",
    "- Наша дочка двенадцать лет пропадала. теперь домой вернулась – поэтому народ шумит. Король умер, надо бы нового короля, примака для дочери, поэтому шум в городе. Кто сможет спрятаться, тот будет королем, а кто не сможет – тому голова с плеч.\n",
    "Он отвечает бабушке:\n",
    "- У меня есть гадательная книга и зеркало, пустят ли меня прятаться. Не смогут если найти – я – король, а смогут – голова с плеч.\n",
    "Жена до полудня спит, второй час в зеркало смотрит, третий – одевается и гадает, такое у них объявление. Он эту жену нашел, бабушке это рассказал и пошел прятаться. Спрятаться надо в то время, пока жена ест и спать собирается, за два часа. Уже время прятаться идти. Уже полдень, жена кушает и спать идет на два часа. В это время ему спрятаться надо. Как прятаться пошел, в руке он кость зажал, которую ему старик дал. кость его прятаться ведет на берег моря. из моря поднимается самая главная рыба, его проглатывает и несет на середину моря. А жена тут спит, одевается, берет зеркало и на два часа гадать идет. Два часа гадает. На земле ищет – нет его, в лесу – нет его, на небе – нет его. Ищет на море и видит: посреди моря он в утробе рыбы. Она говорит:\n",
    "- Возвращайся!\n",
    "Нашла рыбу, рыба принесла его к берегу и выпустила. Второй день наступил. Опять в полдень обед наступил, два часа потом спит, час одевается и глаза моет, на два часа идет гадать. Во второй раз отправился прятаться, пока царская дочь спит. Взял косточку в руку, зажал ее и подняла косточка его в облака. проснулась жена, третий час одевается и глаза моет. Взяла книгу, встала у зеркала и стала гадать. Стала она гадать, смотрит землю, леса, воду – не его нигде. Смотрит в облака, говорит:\n",
    "- Ты там, возвращайся!\n",
    "Третий день наступает. В полдень жена обедает, два часа спит, час одевается и глаза моет. На два часа потом уходит с книгами к зеркалу гадать. Теперь во время ее сна он берет в руки третью косточку, в руке зажимает: «Куда косточка его спрячет?» Повела его кость в квартиру жены. Дежурный солдат его не пускает. Он просит солдата:\n",
    "- Денег возьми, сколько пожелаешь!\n",
    "Солдат говорит:\n",
    "- Из-за денег я не буду свою голову терять и тебя пускать.\n",
    "Он просится, а солдат думает: «Если сто рублей дашь – смогу хоть вина попить перед смертью». А мужчина ему отвечает:\n",
    "- Возьми хоть две сотни!\n",
    "Дал он денег, бесчисленное количество их достает, достает:\n",
    "- Еще ли надо?\n",
    "- Хватит уже,- говорит солдат,- тут уже две сотни.\n",
    "Прошел через солдата. а второй дежурный еще хуже. Он просит: «Возьми сколько хочешь – только пусти!» \n",
    "Солдат отвечает:\n",
    "- Голову свою из-за денег терять не буду. Но если две сотни дашь – хоть вина попью перед смертью.\n",
    "- Возьми хоть три!\n",
    "Он опять деньги все достает, достает, говорит:\n",
    "- Еще ли надо?\n",
    "- Хватит уже, иди. Здесь три сотни, хоть перед смертью напьюсь.\n",
    "Через двух дежурных прошел. Вот идет он к третьему дежурному. Он не пускает. мужчина просится, просится: «Сколько хочешь денег возьми, только пусти!»\n",
    "- Из-за твоих денег не буду я свою голову терять. Если три сотни дашь, то иди, я хоть перед смертью напьюсь!\n",
    "- Бери хоть четыре сотни, только пусти!\n",
    "Опять денег все достает, достает бесчисленно.\n",
    "- Еще ли надо?\n",
    "- Хватит уже, иди, есть тут уже четыре сотни,- ответил дежурный. \n",
    "Через всех дежурных прошел, через трех солдат. Он пошел в комнату, смотрит: спит жена. подол задран. Взял, косточку зажал, и косточка его провела между зеркалом и книгой.. Зеркало было широкое и длинное, за ним он встал. Стоит он. Жена проснулась, глаза помыла и пошла гадать на два часа. А люди на улице стоят, время вышло, они кричат:\n",
    "- Ура, у нас король появился, смог он спрятаться.\n",
    "Он появился из-за зеркала. Говорит жена:\n",
    "- Показывало близко, не смогла угадать, где ты спрятался.\n",
    "Он стал королем, дела взял с вои руки, стал служить королем. Всем дежурным солдатам, которые его пропустили, дал он чин повыше. Они думали, что так все пройдет.\n",
    "Стали они с женой жить, только жена не стала для него любимой. Прожили они вместе некоторое время, велели прислуге баню истопить. прислуга баню истопила, говорит:\n",
    "- Идите в баню, она уже готова.\n",
    "Жена разделась. взяла чистое белье и очень рассерженным голосом как закричит:\n",
    "- Пошли уже в баню!\n",
    "Муж ей отвечает:\n",
    "- Иди, я потом приду!\n",
    "Жена ему:\n",
    "- Или иди, или умри!\n",
    "Муж остался дома, жена ушла в баню. Муж остался дома, жена с прислугой в баню ушла. В доме в это время печь топилась. Он взял, ковер в печь кинул, зеркало на маленькие кусочки переломал. Гадательную книгу в печке сжег. пошел потом на сарай, взял три смоляных вицы и пошел жену парить. пришел в баню. прислуга как раз спину жене моет-машет. подвинул он прислугу и стал жену по плечам парить. Убежала жена, удалось ей из-под рук его убежать. Так раздетая и пришла домой. Муж кричит:\n",
    "- Не будешь меня есть-кричать, скоро и тебе конец!\n",
    "Она так потому кричала, что думала: ее книга и зеркало на месте лежат. А домой пришла: зеркало на полу лежит, на кусочки переломано, нет ни книги, ни ковра. Видит она – все переломано, нет у нее ничего. Она обратно к мужу в баню. Она в ноги мужу поклонилась:\n",
    "- Буду грязную воду пить, так буду тебя слушать.\n",
    "Потом они в бане попарились и стали хорошо жить. жена стала мужа слушать, а муж стал королем. Отправил он дядюшкам письмо: «Я здесь стал королем, домой меня не ждите. Живу хорошо, снова вместе с прежней женой.\n",
    "Стари-маалии. девица-вдовица – умная указа, перелинной приказа. это сказка не сказка, сказка будет утром после каши\"\"\",\n",
    "\"\"\"Была раньше синичка. Свила она гнездо в ивняке. Снесла три яйца.\n",
    "Высиживает эти яйца. Вылупляется три птенчика. Отправилась она еду\n",
    "искать птенцам. Какую муху поймает, ту и скармливает птенцам. Прихо-\n",
    "дит медведь к ивняку, где синичкины птенцы. Птенцы уже научились ле-\n",
    "тать и вспорхнули на ветки березы. Медведь рассвирепел, съел гнездо и\n",
    "ивняк разметал. Медведь ушел в лес. Явилась синица, смотрит – ивняк\n",
    "растерзан, гнездо съедено, и птенцы куда-то делись.\n",
    "Птенцы говорят с веток березы:\n",
    "– Мы, мама, здесь. Как пришел кто-то очень большой и хотел нас\n",
    "съесть, мы улетели. Гнездо съел и ивняк разметал.\n",
    "Синица говорит:\n",
    "– Был ли [тот] с меня ростом?\n",
    "Птенцы говорят:\n",
    "– Ты даже меньше его глаза, такой большой был.\n",
    "Синичка распушила перья, крылья и спрашивает:\n",
    "– Был ли такой большой?\n",
    "Птенцы говорят:\n",
    "– Ты даже меньше его уха, он был такой большой.\n",
    "Синичка догадалась, что это был медведь. Спрашивает у птенцов:\n",
    "– В какую сторону этот большой отправился?\n",
    "Птенцы говорят:\n",
    "– Туда в лес пошел.\n",
    "Синица говорит своим птенцам:\n",
    "– Вы будьте здесь, я пойду поймаю его и отведу в суд.\n",
    "Полетела синица, поймала, вцепилась ему в ухо и говорит:\n",
    "– Это ты моих птенцов выгнал из гнезда, гнездо съел и ивняк растрепал?\n",
    "Медведь говорит:\n",
    "– Я.\n",
    "Синица говорит:\n",
    "– Что ж ты натворил?\n",
    "Медведь говорит:\n",
    "– А я такой едок, такой добытчик: мне надо есть, где что достану.\n",
    "Синица говорит:\n",
    "– Пойдем в город судиться!\n",
    "И отвела синица медведя в суд. Говорит судье:\n",
    "– Этот медведь мне зло сделал, что присудишь теперь?\n",
    "Судья говорит:\n",
    "– Присудим мы: быть ему без хвоста.\n",
    "Медведь говорит:\n",
    "– Не отсуживайте вы у меня весь хвост, оставьте хоть полхвоста.\n",
    "Медведю полхвоста оставили. Синица отправилась к птенцам. Мед-\n",
    "ведь пошел в лес и плачет, ведь у него полхвоста отсудили. Идет лиса на-\n",
    "встречу медведю, спрашивает:\n",
    "– Что плачешь, медведь?\n",
    "Медведь говорит:\n",
    "– Плачу, потому что присудили мне быть бесхвостым, но не совсем\n",
    "бесхвостым, оставили полхвоста.\n",
    "Лиса говорит:\n",
    "– Пойдем к нам, будем вместе жить.\n",
    "Идут с медведем в лисий дом. Лиса нашла кошель с налимами. (Такой\n",
    "же, как твой кошель в том углу.) Лиса и медведь стали кумовьями. Мед-\n",
    "ведь спрашивает:\n",
    "– Откуда ты, кума, достала налимов?\n",
    "Лиса говорит:\n",
    "– Да я была на рыбалке прошлой ночью.\n",
    "– Где ты, кума, удила и чем?\n",
    "– Я пошла на поповскую прорубь и опустила туда свой хвост. На каж-\n",
    "дую шерстинку прицепилось по налиму.\n",
    "Медведь говорит:\n",
    "– Пойду и я, есть у меня еще полхвоста.\n",
    "Пошел медведь на рыбалку. Уже был темный вечер. Медведь идет, опуска-\n",
    "ет хвост в прорубь, и сам на прорубь сел-взгромоздился. Стоит очень морозная\n",
    "ночь. Медведю стало хвост пощипывать, когда прорубь стала замерзать.\n",
    "Медведь думает:\n",
    "– Теперь их [налимов] попадется, раз _____так начало хвост щипать. Надо\n",
    "этих налимов поднять на лед, а потом наужу еще.\n",
    "У медведя вся задница примерзла к проруби, думает:\n",
    "– Теперь прицепилось так много налимов, что не смогу поднять.\n",
    "Не может медведь оторваться от проруби, сидит там. Утром поповские\n",
    "служанки приходят за водой, бьют медведя коромыслом. Медведь как рва-\n",
    "нул хвост – и половинка хвоста осталась там. Он идет к лисе, говорит:\n",
    "– То ли так много наловилось налимов, то ли потому, что поповские\n",
    "служанки коромыслом били, – хвост оторвался.\n",
    "Лиса говорит:\n",
    "– Если не шевелил [хвостом], то он примерз. Я разведу здесь огонь,\n",
    "так согреешься.\n",
    "Лиса собрала в кучу смолья и развела огонь. Медведю говорит:\n",
    "– Садись, кум, сюда на огонь погреться.\n",
    "Медведь тут и сгорел, а сама лиса убежала. И другие медведи оста-\n",
    "лись бесхвостыми, когда у того медведя хвост отсудили\"\"\",\n",
    "\"\"\"Старик да старуха были уже старые. Легли они на печи спать. На кры-\n",
    "шу избы пришла белка. Там скребется, стучит, не дает им покоя ночью.\n",
    "Старуха говорит старику:\n",
    "– Пойди, поставь ловушку на крышу, не попадет ли белка.\n",
    "Старик встал на крышу и поставил ловушку. Пришел обратно в избу,\n",
    "лег спать. Белка опять и пришла на крышу. Да и попала в ловушку. Гре-\n",
    "мит там в ловушке. Старуха говорит старику:\n",
    "– Иди, возьми, белка уже попала в ловушку.\n",
    "Старик поднялся на избу, стал вынимать белку из ловушки, да и разо-\n",
    "дрались старик и белка. Белка как ударила старика по уху, он и упал с\n",
    "крыши. Старик умер. Белка взяла возле угла [дома] ахкиво [охотничьи санки] и положила\n",
    "старика в ахкиво. Потащила старика в ахкиво. Встретился заяц, спраши-\n",
    "вает у белки:\n",
    "– Что везешь, белка?\n",
    "Белка говорит:\n",
    "– Везу старика, доброго человека:\n",
    "поставил клещи на крыше,\n",
    "ловушку на потолке,\n",
    "для меня, по лесу бегающей,\n",
    "денежный мех носящей,\n",
    "в утренней росе бродящей,\n",
    "в сумерках крадущейся.\n",
    "Сам попал в клещи,\n",
    "угодил в ловушку.\n",
    "Заяц говорит:\n",
    "– Возьми меня везти [старика].\n",
    "Белка говорит:\n",
    "– Откуси кусок от старика, да и потянем вдвоем.\n",
    "Повезли дальше. Тащат некоторое время. Идет волк навстречу, спра-\n",
    "шивает:\n",
    "– Что везешь, заяц?\n",
    "– Не я везу, белка везет, – говорит заяц.\n",
    "Волк спрашивает:\n",
    "– Что везешь, белка?\n",
    "– Везу старика, доброго человека:\n",
    "поставил клещи на крыше,\n",
    "ловушку на потолке,\n",
    "для меня, по лесу бегающей,\n",
    "денежный мех носящей.\n",
    "Сам попал в свои клещи,\n",
    "угодил в ловушку.\n",
    "Говорит белка волку:\n",
    "– Откуси кусок от старика и давай вези.\n",
    "Везут недолго. Идет медведь навстречу.\n",
    "– Что везешь, волк?\n",
    "– Не я везу, заяц везет.\n",
    "– Что везешь, заяц?\n",
    "– Не я везу, белка везет (белка ведь была за хозяина).\n",
    "Белка говорит медведю:\n",
    "– Давай вези [старика] и съешь кусок старика.\n",
    "Медведь так съел старика, что остался только кусок головы в ахкиво.\n",
    "Идет лиса навстречу. Спрашивает:\n",
    "– Что везешь, медведь?\n",
    "Медведь говорит:\n",
    "– Не я везу, волк везет.\n",
    "Волк говорит:\n",
    "– Не я везу, белка везет.\n",
    "– Что везешь, белка?\n",
    "Белка говорит:\n",
    "– Везу старика, доброго человека:\n",
    "поставил клещи на крыше,\n",
    "ловушку на потолке,\n",
    "для меня, по лесу бегающей,\n",
    "денежный мех носящей,\n",
    "в утренней росе бродящей,\n",
    "в сумерках крадущейся.\n",
    "Сам попал в свои клещи,\n",
    "угодил в ловушку.\n",
    "Белка говорит лисе:\n",
    "– Съешь остатки этого старика.\n",
    "Лиса съела оставшийся кусок головы. Везут пустое ахкиво все вместе.\n",
    "Медведь говорит:\n",
    "– Есть захотелось. Кто меньший, кто меньший, того съедим!\n",
    "Белку съели. Везли опять немного времени, медведь опять говорит:\n",
    "– Есть захотелось. Кто меньший, кто меньший, того съедим!\n",
    "Зайца съели. Лиса говорит волку:\n",
    "– Давай убежим, съест нас медведь.\n",
    "Волк и лиса убежали в лес.\n",
    "Медведь везет один пустое ахкиво. Говорит медведь:\n",
    "– Есть захотелось. Кто меньший, кто меньший, того съедим!\n",
    "Оглянулся назад – никого нет, кроме пустого ахкиво. Медведь сильно\n",
    "рассердился, трахнул ахкиво о дерево, сам пошел в лес.\n",
    "На этом и кончилась сказка\"\"\"\n",
    "]"
   ]
  },
  {
   "cell_type": "code",
   "execution_count": null,
   "metadata": {},
   "outputs": [],
   "source": [
    "def split_sentences(text, language='fi'):\n",
    "    sentences = split_text_into_sentences(text=text, language=language) #.replace('\\r\\n', '')\n",
    "    return [s.strip() for s in sentences if s.strip()]\n",
    "\n",
    "def check_dots(sentences):\n",
    "    new_sentences = list()\n",
    "    for sent in sentences:\n",
    "        if sent.count('.') > 1 and sent.count('..') == 0 and sent.count('...') == 0:\n",
    "            new_sentences.extend(sent.split('.'))\n",
    "        else:\n",
    "            new_sentences.append(sent)\n",
    "    return new_sentences\n",
    "\n",
    "\n",
    "def check_length(doc1, doc2):\n",
    "    for num, (s1, s2) in enumerate(zip(doc1, doc2)):\n",
    "        if len(s1.split()) < len(s2.split()) / 2 or len(s1.split()) > len(s2.split()) *2:\n",
    "            print(num)"
   ]
  },
  {
   "cell_type": "code",
   "execution_count": 54,
   "metadata": {},
   "outputs": [],
   "source": [
    "res_kar, res_rus = list(), list()"
   ]
  },
  {
   "cell_type": "code",
   "execution_count": 91,
   "metadata": {},
   "outputs": [
    {
     "name": "stdout",
     "output_type": "stream",
     "text": [
      "410 435\n"
     ]
    }
   ],
   "source": [
    "IND = 1\n",
    "sent_rus, sent_kar = split_sentences(test_rus[IND], 'ru'), split_sentences(test_kar[IND], 'fi')\n",
    "sent_rus, sent_kar = check_dots(sent_rus), check_dots(sent_kar)\n",
    "print(len(sent_kar), len(sent_rus))"
   ]
  },
  {
   "cell_type": "code",
   "execution_count": 83,
   "metadata": {},
   "outputs": [],
   "source": [
    "# Save the splitted sentences for Karelian\n",
    "with open('splitted_sentences_kar.txt', 'w', encoding='utf-8') as f:\n",
    "    for sentence in sent_kar:\n",
    "        f.write(sentence + '\\n')\n",
    "\n",
    "# Save the splitted sentences for Russian\n",
    "with open('splitted_sentences_rus.txt', 'w', encoding='utf-8') as f:\n",
    "    for sentence in sent_rus:\n",
    "        f.write(sentence + '\\n')"
   ]
  },
  {
   "cell_type": "code",
   "execution_count": 97,
   "metadata": {},
   "outputs": [
    {
     "data": {
      "text/plain": [
       "(['Tuodih tavarua ulgomerel, käydih tavarah ulgomeren kautti.',\n",
       "  'Vanhin velli oli kaikin ozavin torgudielolois i nygöi sanotah: ”O tammo sen nasledniekan”.',\n",
       "  'Hyö lähtettih nämil purjeil.'],\n",
       " ['Привозили товар из-за моря, за товаром ездили за море.',\n",
       "  'Старший брат был самым удачливым в торговых делах, они и говорят: «Возьмем этого наследника».',\n",
       "  'Отправились они на этих парусах, увидели впереди остров, говорят:'])"
      ]
     },
     "execution_count": 97,
     "metadata": {},
     "output_type": "execute_result"
    }
   ],
   "source": [
    "sent_kar[3:6], sent_rus[3:6]"
   ]
  },
  {
   "cell_type": "code",
   "execution_count": null,
   "metadata": {},
   "outputs": [],
   "source": [
    "# check_length(sent_rus, sent_kar)"
   ]
  },
  {
   "cell_type": "code",
   "execution_count": 81,
   "metadata": {},
   "outputs": [],
   "source": [
    "# TO_CHECK = 17\n",
    "# sent_rus[TO_CHECK], sent_kar[TO_CHECK]"
   ]
  },
  {
   "cell_type": "code",
   "execution_count": null,
   "metadata": {},
   "outputs": [
    {
     "data": {
      "text/plain": [
       "'Вот поехали киндасовские мужики, собралась их целая артель. Едут в Питер. В Питер зимой. Едут. Целый день едут. В деревню заезжают на ночь, заезжают, да и разговаривают на мосту, говорит [один]:\\n- Возы надо, - говорит, - повернуть оглоблями в сторону Питера, не поехать бы, - говорит, - обратно домой.\\nНу хорошо. А мужик со стороны слышит. Слышит со стороны. Они только легли спать, мужик взял сани все повернул обратно, в сторону дома.\\nСобрались утром, лошадей запрягли. Поехали в Питер. Отправились в Питер. Едут, едут, так:\\n- Да тут, - говорит, - будто наш мост.\\nМост на мост приходится ведь, не без этого, - говорит.\\nВторой и говорит:\\n- Там, - говорит, - как будто наш дом, - говорит. - А это наша деревня, - говорит.\\n- Деревня с деревней сходится, ведь много же, - говорит, - деревень на свете.\\n- Да вон будто бы как моя жена, - говорит, - сейчас белье стирает на берегу.\\n- Жена с женой разве не бывают схожи?\\nЖена-то как услышит:\\n- Ох, вы, окаянные, - говорит, - домой и возвращаетесь, обратно приехали!\\nТут они домой приехали, потом не знали больше, куда надо ехать. Дорога кончилась. Больше - всё.'"
      ]
     },
     "execution_count": 31,
     "metadata": {},
     "output_type": "execute_result"
    }
   ],
   "source": [
    "test_rus[25]"
   ]
  },
  {
   "cell_type": "code",
   "execution_count": null,
   "metadata": {},
   "outputs": [],
   "source": [
    "# with open('data//pdf_in_karjalan//karelian_tales_kar.txt', 'r', encoding='utf-8') as f:\n",
    "#     test_kar = f.readlines()\n",
    "# with open('data//pdf_in_karjalan//karelian_tales_rus.txt', 'r', encoding='utf-8') as f:\n",
    "#     test_rus = f.readlines()"
   ]
  },
  {
   "cell_type": "code",
   "execution_count": 3,
   "metadata": {},
   "outputs": [],
   "source": [
    "# with open('data//pdf_in_karjalan//karelian_tales_kar.txt', 'w', encoding='utf-8') as f:\n",
    "#     for line in test_kar:\n",
    "#         f.write(line)\n",
    "# with open('data//pdf_in_karjalan//karelian_tales_rus.txt', 'w', encoding='utf-8') as f:\n",
    "#     for line in test_rus:\n",
    "#         f.write(line)"
   ]
  },
  {
   "cell_type": "code",
   "execution_count": 26,
   "metadata": {},
   "outputs": [],
   "source": [
    "test_kar = [s.replace('\\n', ' ').strip() for s in test_kar]\n",
    "test_rus = [s.replace('\\n', ' ').strip() for s in test_rus]"
   ]
  },
  {
   "cell_type": "code",
   "execution_count": 27,
   "metadata": {},
   "outputs": [],
   "source": [
    "test_kar_res, test_rus_res = list(), list()"
   ]
  },
  {
   "cell_type": "code",
   "execution_count": null,
   "metadata": {},
   "outputs": [],
   "source": [
    "for NUM in range(4):\n",
    "    all_text_orig = [test_kar[NUM]]\n",
    "    all_text_trans = [test_rus[NUM]]\n",
    "    lang_from = \"fi\"\n",
    "    lang_to = \"ru\"\n",
    "    models = [\"sentence_transformer_multilingual\", \"sentence_transformer_multilingual_labse\", \n",
    "            'sentence_transformer_multilingual_xlm_100', \"rubert_tiny\", 'sonar', 'nllb']\n",
    "    model_name = models[-1]\n",
    "\n",
    "    text1_prepared = preprocessor.mark_paragraphs(all_text_orig)\n",
    "    text2_prepared = preprocessor.mark_paragraphs(all_text_trans)\n",
    "    splitted_from = splitter.split_by_sentences_wrapper(text1_prepared, lang_from)\n",
    "    splitted_to = splitter.split_by_sentences_wrapper(text2_prepared, lang_to)\n",
    "\n",
    "    db_path = f\"databases1//book{NUM}.db\"\n",
    "    aligner.fill_db(db_path, lang_from, lang_to, splitted_from, splitted_to)\n",
    "    batch_ids = [0,1]\n",
    "\n",
    "    aligner.align_db(db_path,\n",
    "                    model_name,\n",
    "                    batch_size=100,\n",
    "                    window=30,\n",
    "                    batch_ids=batch_ids,\n",
    "                    save_pic=True,\n",
    "                    embed_batch_size=50,\n",
    "                    normalize_embeddings=True,\n",
    "                    show_progress_bar=True,\n",
    "                    show_info=True\n",
    "                    )\n",
    "    paragraphs, par_ids, meta, sent_counter = reader.get_paragraphs(db_path)\n",
    "    assert len(paragraphs['from'][0]) == len(paragraphs['to'][0]), 'Длины не совпадают'\n",
    "    test_kar_res.extend(paragraphs['from'][0])\n",
    "    test_rus_res.extend(paragraphs['to'][0])"
   ]
  },
  {
   "cell_type": "code",
   "execution_count": 23,
   "metadata": {},
   "outputs": [
    {
     "data": {
      "text/plain": [
       "(\"Vot Kindahan miehet lähtiettih, kerävyi heidy arteli. Lähtietäh Piiterih, Piiterih talvel. Ajetah. Päivy ajetah kai. Kyläh mennäh yökse ga, mennäh ga, pajistah sillal sallow: - Riet pidäw, - sanow, - kiändyä Piiterih päi, ed ajais, - sanow, - kodih järilleh. No hyvä. A mužikku bokas kuulow. Kuulow bokas ga. Hyö muata vai ruvettih, mužikku otti, riet kiänäldi kai kodih päi järilleh. Lähtiettih huondeksel, hevod val'1'astettih. Lähtiettih Piiterih. Lähtiettih Piiterih ajamah. Ajetah, ajetah gauml - Ka tuaz on, - sanow, - gu rowno meijän sildu!  - Sildu sildah koskehhai, eihai, - sallow. Toine sanow gauml - T'uaz on, - sanow, - gu rowno meijän kodi, - sanow. A meijän kylä on tämä! - sanow. - Kylä kyläh koskehhäi, äijyhäi, - sanow, - on kylyä mual. - Ka tuaz on gu rowno minun akku, - sanow, - nygöi sobii pezöw rannas! - Akku akkah eigo koske!  Akku ku kuulowhäi: - Oho, propuaššoid! - sanow, - kodihgo tuliitto, iäre ajoitto?  Sid hyö kodih tuldih. Sid ei tietty enämbi, kunne pidäw mennä. Dorogu loppih. Enämbi vs'o!\",\n",
       " 'Вот поехали киндасовские мужики, собралась их целая артель. Едут в Питер. В Питер зимой. Едут. Целый день едут. В деревню заезжают на ночь, заезжают, да и разговаривают на мосту, говорит [один]: - Возы надо, - говорит, - повернуть оглоблями в сторону Питера, не поехать бы, - говорит, - обратно домой. Ну хорошо. А мужик со стороны слышит. Слышит со стороны. Они только легли спать, мужик взял сани все повернул обратно, в сторону дома. Собрались утром, лошадей запрягли. Поехали в Питер. Отправились в Питер. Едут, едут, так: - Да тут, - говорит, - будто наш мост. Мост на мост приходится ведь, не без этого, - говорит. Второй и говорит: - Там, - говорит, - как будто наш дом, - говорит. - А это наша деревня, - говорит. - Деревня с деревней сходится, ведь много же, - говорит, - деревень на свете. - Да вон будто бы как моя жена, - говорит, - сейчас белье стирает на берегу. - Жена с женой разве не бывают схожи? Жена-то как услышит: - Ох, вы, окаянные, - говорит, - домой и возвращаетесь, обратно приехали! Тут они домой приехали, потом не знали больше, куда надо ехать. Дорога кончилась. Больше - всё.')"
      ]
     },
     "execution_count": 23,
     "metadata": {},
     "output_type": "execute_result"
    }
   ],
   "source": [
    "test_kar[0], test_rus[0]"
   ]
  },
  {
   "cell_type": "code",
   "execution_count": 29,
   "metadata": {},
   "outputs": [
    {
     "data": {
      "text/html": [
       "<div>\n",
       "<style scoped>\n",
       "    .dataframe tbody tr th:only-of-type {\n",
       "        vertical-align: middle;\n",
       "    }\n",
       "\n",
       "    .dataframe tbody tr th {\n",
       "        vertical-align: top;\n",
       "    }\n",
       "\n",
       "    .dataframe thead th {\n",
       "        text-align: right;\n",
       "    }\n",
       "</style>\n",
       "<table border=\"1\" class=\"dataframe\">\n",
       "  <thead>\n",
       "    <tr style=\"text-align: right;\">\n",
       "      <th></th>\n",
       "      <th>kar</th>\n",
       "      <th>rus</th>\n",
       "      <th>split</th>\n",
       "    </tr>\n",
       "  </thead>\n",
       "  <tbody>\n",
       "    <tr>\n",
       "      <th>0</th>\n",
       "      <td>Vot Kindahan miehet lähtiettih, kerävyi heidy ...</td>\n",
       "      <td>Вот поехали киндасовские мужики, собралась их ...</td>\n",
       "      <td>test</td>\n",
       "    </tr>\n",
       "    <tr>\n",
       "      <th>1</th>\n",
       "      <td>Lähtietäh Piiterih, Piiterih talvel.</td>\n",
       "      <td>Едут в Питер.</td>\n",
       "      <td>test</td>\n",
       "    </tr>\n",
       "    <tr>\n",
       "      <th>2</th>\n",
       "      <td>Ajetah.</td>\n",
       "      <td>Едут.</td>\n",
       "      <td>test</td>\n",
       "    </tr>\n",
       "    <tr>\n",
       "      <th>3</th>\n",
       "      <td>Päivy ajetah kai.</td>\n",
       "      <td>Целый день едут.</td>\n",
       "      <td>test</td>\n",
       "    </tr>\n",
       "    <tr>\n",
       "      <th>4</th>\n",
       "      <td>Kyläh mennäh yökse ga, mennäh ga, pajistah sil...</td>\n",
       "      <td>В деревню заезжают на ночь, заезжают, да и раз...</td>\n",
       "      <td>test</td>\n",
       "    </tr>\n",
       "    <tr>\n",
       "      <th>...</th>\n",
       "      <td>...</td>\n",
       "      <td>...</td>\n",
       "      <td>...</td>\n",
       "    </tr>\n",
       "    <tr>\n",
       "      <th>347</th>\n",
       "      <td>Sanou kontieuml – Nälkä tuli.</td>\n",
       "      <td>Белка говорит лисе: – Съешь остатки этого стар...</td>\n",
       "      <td>test</td>\n",
       "    </tr>\n",
       "    <tr>\n",
       "      <th>348</th>\n",
       "      <td>Ku pienin, ku pienin, se i syyvväh!</td>\n",
       "      <td>Кто меньший, кто меньший, того съедим!</td>\n",
       "      <td>test</td>\n",
       "    </tr>\n",
       "    <tr>\n",
       "      <th>349</th>\n",
       "      <td>Käcahtau jälelläh: ei ni ketänä matalla, kun t...</td>\n",
       "      <td>Везут пустое ахкиво все вместе.</td>\n",
       "      <td>test</td>\n",
       "    </tr>\n",
       "    <tr>\n",
       "      <th>350</th>\n",
       "      <td>Kontie siänty pahanpäiväsekse.</td>\n",
       "      <td>Медведь везет один пустое ахкиво.</td>\n",
       "      <td>test</td>\n",
       "    </tr>\n",
       "    <tr>\n",
       "      <th>351</th>\n",
       "      <td>Löi ahkivon puuhu säpälehikse, iče läksi meččäh.</td>\n",
       "      <td>Медведь сильно рассердился, трахнул ахкиво о д...</td>\n",
       "      <td>test</td>\n",
       "    </tr>\n",
       "  </tbody>\n",
       "</table>\n",
       "<p>352 rows × 3 columns</p>\n",
       "</div>"
      ],
      "text/plain": [
       "                                                   kar  \\\n",
       "0    Vot Kindahan miehet lähtiettih, kerävyi heidy ...   \n",
       "1                 Lähtietäh Piiterih, Piiterih talvel.   \n",
       "2                                              Ajetah.   \n",
       "3                                    Päivy ajetah kai.   \n",
       "4    Kyläh mennäh yökse ga, mennäh ga, pajistah sil...   \n",
       "..                                                 ...   \n",
       "347                      Sanou kontieuml – Nälkä tuli.   \n",
       "348                Ku pienin, ku pienin, se i syyvväh!   \n",
       "349  Käcahtau jälelläh: ei ni ketänä matalla, kun t...   \n",
       "350                     Kontie siänty pahanpäiväsekse.   \n",
       "351   Löi ahkivon puuhu säpälehikse, iče läksi meččäh.   \n",
       "\n",
       "                                                   rus split  \n",
       "0    Вот поехали киндасовские мужики, собралась их ...  test  \n",
       "1                                        Едут в Питер.  test  \n",
       "2                                                Едут.  test  \n",
       "3                                     Целый день едут.  test  \n",
       "4    В деревню заезжают на ночь, заезжают, да и раз...  test  \n",
       "..                                                 ...   ...  \n",
       "347  Белка говорит лисе: – Съешь остатки этого стар...  test  \n",
       "348             Кто меньший, кто меньший, того съедим!  test  \n",
       "349                    Везут пустое ахкиво все вместе.  test  \n",
       "350                  Медведь везет один пустое ахкиво.  test  \n",
       "351  Медведь сильно рассердился, трахнул ахкиво о д...  test  \n",
       "\n",
       "[352 rows x 3 columns]"
      ]
     },
     "execution_count": 29,
     "metadata": {},
     "output_type": "execute_result"
    }
   ],
   "source": [
    "res = pd.DataFrame([test_kar_res, test_rus_res]).T\n",
    "res.columns = ['kar', 'rus']\n",
    "res['split'] = 'test'\n",
    "res"
   ]
  },
  {
   "cell_type": "code",
   "execution_count": 38,
   "metadata": {},
   "outputs": [],
   "source": [
    "res = pd.read_csv('data/df_test_skazki.csv')"
   ]
  },
  {
   "cell_type": "code",
   "execution_count": null,
   "metadata": {},
   "outputs": [],
   "source": [
    "# доп чистка\n",
    "r = list()\n",
    "for _, row in res.iterrows():\n",
    "    pattern = r'(\\w)- (\\w)'\n",
    "    temp = re.sub(pattern, r'\\1\\2', row.rus)\n",
    "    r.append(temp)"
   ]
  },
  {
   "cell_type": "code",
   "execution_count": 40,
   "metadata": {},
   "outputs": [],
   "source": [
    "res['rus'] = r"
   ]
  },
  {
   "cell_type": "code",
   "execution_count": 41,
   "metadata": {},
   "outputs": [],
   "source": [
    "res.to_csv('data//df_test_skazki.csv', index=False)"
   ]
  }
 ],
 "metadata": {
  "kernelspec": {
   "display_name": "karelian",
   "language": "python",
   "name": "python3"
  },
  "language_info": {
   "codemirror_mode": {
    "name": "ipython",
    "version": 3
   },
   "file_extension": ".py",
   "mimetype": "text/x-python",
   "name": "python",
   "nbconvert_exporter": "python",
   "pygments_lexer": "ipython3",
   "version": "3.12.3"
  }
 },
 "nbformat": 4,
 "nbformat_minor": 2
}
