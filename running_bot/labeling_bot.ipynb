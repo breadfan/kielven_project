{
 "cells": [
  {
   "cell_type": "code",
   "execution_count": 1,
   "metadata": {},
   "outputs": [],
   "source": [
    "import telegram \n",
    "from telegram import InlineKeyboardButton, InlineKeyboardMarkup, Update\n",
    "from telegram.ext import CommandHandler, CallbackQueryHandler, CallbackContext, ApplicationBuilder\n",
    "import pandas as pd\n",
    "from pandas.plotting import table \n",
    "import matplotlib\n",
    "import matplotlib.pyplot as plt\n",
    "import os\n",
    "import numpy as np\n",
    "import requests\n",
    "\n",
    "from source.bot_source import LabellingBot\n",
    "import nest_asyncio\n",
    "\n",
    "from tqdm import tqdm"
   ]
  },
  {
   "cell_type": "code",
   "execution_count": 88,
   "metadata": {},
   "outputs": [],
   "source": [
    "nllb, mbart, pairs, _, tartu = pd.read_csv('data\\\\trans_10k_all.csv').iloc[0]"
   ]
  },
  {
   "cell_type": "code",
   "execution_count": 89,
   "metadata": {},
   "outputs": [],
   "source": [
    "pairs = pairs[1:-1].split('), ')\n",
    "pairs = [tuple(p[1:].split(', \\'')) for p in pairs]\n",
    "pairs = [(f[1:-1], s[:-1]) for f, s in pairs]"
   ]
  },
  {
   "cell_type": "code",
   "execution_count": 90,
   "metadata": {},
   "outputs": [
    {
     "data": {
      "text/plain": [
       "[('Nevvostoliitos', 'кон — кон (учреждение)'),\n",
       " ('kehitettih', 'формировать (придавать форму)'),\n",
       " ('omaluaduine,', 'эксцентричный'),\n",
       " ('pehmei', 'палатальный'),\n",
       " ('taba', 'характер (нрав)'),\n",
       " ('kuvata', 'списать (воспроизвести по какому-л. оригиналу)'),\n",
       " ('liikehty,', 'укачивание'),\n",
       " ('kudamas', 'пресн|ый (о пище)'),\n",
       " ('tuli', 'электричеств|о'),\n",
       " ('muan', 'земн|ой'),\n",
       " ('animacien', 'плюгавый'),\n",
       " ('tunnusmerki.', \"эмблема'\")]"
      ]
     },
     "execution_count": 90,
     "metadata": {},
     "output_type": "execute_result"
    }
   ],
   "source": [
    "pairs"
   ]
  },
  {
   "cell_type": "code",
   "execution_count": 24,
   "metadata": {},
   "outputs": [
    {
     "data": {
      "text/plain": [
       "'В бракосочетании разработали своеобразный, мягкий способ изображения движения, который стал признаком земной анимиции.'"
      ]
     },
     "execution_count": 24,
     "metadata": {},
     "output_type": "execute_result"
    }
   ],
   "source": [
    "nllb"
   ]
  },
  {
   "cell_type": "code",
   "execution_count": 4,
   "metadata": {},
   "outputs": [],
   "source": [
    "lab = pd.read_csv('data/labeled.csv').drop_duplicates(ignore_index=True)"
   ]
  },
  {
   "cell_type": "code",
   "execution_count": 5,
   "metadata": {},
   "outputs": [],
   "source": [
    "# %pip install python-telegram-bot[rate-limiter]"
   ]
  },
  {
   "cell_type": "code",
   "execution_count": 3,
   "metadata": {},
   "outputs": [],
   "source": [
    "%load_ext autoreload\n",
    "%autoreload 2"
   ]
  },
  {
   "cell_type": "code",
   "execution_count": null,
   "metadata": {},
   "outputs": [
    {
     "ename": "",
     "evalue": "",
     "output_type": "error",
     "traceback": [
      "\u001b[1;31mnotebook controller is DISPOSED. \n",
      "\u001b[1;31mView Jupyter <a href='command:jupyter.viewOutput'>log</a> for further details."
     ]
    }
   ],
   "source": [
    "# import requests\n",
    "\n",
    "# headers = {\n",
    "#     'accept': 'application/json',\n",
    "#     'Content-Type': 'application/json',\n",
    "# }\n",
    "# res = list()\n",
    "# text = 'Sen jälles häi muutti Yhtysvaldoih da luadi sie animaciesarjua \"Newlyweds\", kudamua imitiiruittih äijän'\n",
    "# for text in tqdm(lab['kar'].values):\n",
    "#     json_data = {\n",
    "#         'text': text,\n",
    "#         'src': 'olo',\n",
    "#         'tgt': 'rus',\n",
    "#         'domain': 'general',\n",
    "#         'application': 'Documentation UI',\n",
    "#     }\n",
    "\n",
    "#     response = requests.post('https://api.tartunlp.ai/translation/v2', headers=headers, json=json_data)\n",
    "#     res.append(response.json()['result'])"
   ]
  },
  {
   "cell_type": "markdown",
   "metadata": {},
   "source": [
    "# Бот в отдельном файле"
   ]
  },
  {
   "cell_type": "code",
   "execution_count": 7,
   "metadata": {},
   "outputs": [
    {
     "name": "stderr",
     "output_type": "stream",
     "text": [
      "2025-05-24 02:07:47,818 - telegram.ext.Application - INFO - Application started\n"
     ]
    },
    {
     "data": {
      "application/vnd.jupyter.widget-view+json": {
       "model_id": "021df37a8e5342e1bf7edfb2ffcf96ca",
       "version_major": 2,
       "version_minor": 0
      },
      "text/plain": [
       "  0%|          | 0/1 [00:00<?, ?it/s]"
      ]
     },
     "metadata": {},
     "output_type": "display_data"
    },
    {
     "data": {
      "application/vnd.jupyter.widget-view+json": {
       "model_id": "600c9b7db68947b385f37de55f7bca94",
       "version_major": 2,
       "version_minor": 0
      },
      "text/plain": [
       "  0%|          | 0/2 [00:00<?, ?it/s]"
      ]
     },
     "metadata": {},
     "output_type": "display_data"
    },
    {
     "name": "stderr",
     "output_type": "stream",
     "text": [
      "2025-05-24 02:09:52,432 - telegram.ext.Application - INFO - Application is stopping. This might take a moment.\n",
      "2025-05-24 02:09:52,434 - telegram.ext.Application - INFO - Application.stop() complete\n"
     ]
    },
    {
     "ename": "RuntimeError",
     "evalue": "Cannot close a running event loop",
     "output_type": "error",
     "traceback": [
      "\u001b[1;31m---------------------------------------------------------------------------\u001b[0m",
      "\u001b[1;31mRuntimeError\u001b[0m                              Traceback (most recent call last)",
      "Cell \u001b[1;32mIn[7], line 4\u001b[0m\n\u001b[0;32m      1\u001b[0m nest_asyncio\u001b[38;5;241m.\u001b[39mapply()\n\u001b[0;32m      3\u001b[0m bot \u001b[38;5;241m=\u001b[39m LabellingBot()\n\u001b[1;32m----> 4\u001b[0m \u001b[43mbot\u001b[49m\u001b[38;5;241;43m.\u001b[39;49m\u001b[43mrun\u001b[49m\u001b[43m(\u001b[49m\u001b[43m)\u001b[49m\n",
      "File \u001b[1;32md:\\research\\karelian_lang\\running_bot\\source\\bot_source.py:472\u001b[0m, in \u001b[0;36mLabellingBot.run\u001b[1;34m(self)\u001b[0m\n\u001b[0;32m    469\u001b[0m application\u001b[38;5;241m.\u001b[39madd_handler(conv_handler)\n\u001b[0;32m    470\u001b[0m application\u001b[38;5;241m.\u001b[39madd_error_handler(\u001b[38;5;28mself\u001b[39m\u001b[38;5;241m.\u001b[39merror_handler)\n\u001b[1;32m--> 472\u001b[0m \u001b[43mapplication\u001b[49m\u001b[38;5;241;43m.\u001b[39;49m\u001b[43mrun_polling\u001b[49m\u001b[43m(\u001b[49m\u001b[43mallowed_updates\u001b[49m\u001b[38;5;241;43m=\u001b[39;49m\u001b[43mUpdate\u001b[49m\u001b[38;5;241;43m.\u001b[39;49m\u001b[43mALL_TYPES\u001b[49m\u001b[43m)\u001b[49m\n",
      "File \u001b[1;32md:\\pyenvs\\karelian\\Lib\\site-packages\\telegram\\ext\\_application.py:832\u001b[0m, in \u001b[0;36mApplication.run_polling\u001b[1;34m(self, poll_interval, timeout, bootstrap_retries, allowed_updates, drop_pending_updates, close_loop, stop_signals)\u001b[0m\n\u001b[0;32m    829\u001b[0m \u001b[38;5;28;01mdef\u001b[39;00m\u001b[38;5;250m \u001b[39m\u001b[38;5;21merror_callback\u001b[39m(exc: TelegramError) \u001b[38;5;241m-\u001b[39m\u001b[38;5;241m>\u001b[39m \u001b[38;5;28;01mNone\u001b[39;00m:\n\u001b[0;32m    830\u001b[0m     \u001b[38;5;28mself\u001b[39m\u001b[38;5;241m.\u001b[39mcreate_task(\u001b[38;5;28mself\u001b[39m\u001b[38;5;241m.\u001b[39mprocess_error(error\u001b[38;5;241m=\u001b[39mexc, update\u001b[38;5;241m=\u001b[39m\u001b[38;5;28;01mNone\u001b[39;00m))\n\u001b[1;32m--> 832\u001b[0m \u001b[38;5;28;01mreturn\u001b[39;00m \u001b[38;5;28;43mself\u001b[39;49m\u001b[38;5;241;43m.\u001b[39;49m\u001b[43m__run\u001b[49m\u001b[43m(\u001b[49m\n\u001b[0;32m    833\u001b[0m \u001b[43m    \u001b[49m\u001b[43mupdater_coroutine\u001b[49m\u001b[38;5;241;43m=\u001b[39;49m\u001b[38;5;28;43mself\u001b[39;49m\u001b[38;5;241;43m.\u001b[39;49m\u001b[43mupdater\u001b[49m\u001b[38;5;241;43m.\u001b[39;49m\u001b[43mstart_polling\u001b[49m\u001b[43m(\u001b[49m\n\u001b[0;32m    834\u001b[0m \u001b[43m        \u001b[49m\u001b[43mpoll_interval\u001b[49m\u001b[38;5;241;43m=\u001b[39;49m\u001b[43mpoll_interval\u001b[49m\u001b[43m,\u001b[49m\n\u001b[0;32m    835\u001b[0m \u001b[43m        \u001b[49m\u001b[43mtimeout\u001b[49m\u001b[38;5;241;43m=\u001b[39;49m\u001b[43mtimeout\u001b[49m\u001b[43m,\u001b[49m\n\u001b[0;32m    836\u001b[0m \u001b[43m        \u001b[49m\u001b[43mbootstrap_retries\u001b[49m\u001b[38;5;241;43m=\u001b[39;49m\u001b[43mbootstrap_retries\u001b[49m\u001b[43m,\u001b[49m\n\u001b[0;32m    837\u001b[0m \u001b[43m        \u001b[49m\u001b[43mallowed_updates\u001b[49m\u001b[38;5;241;43m=\u001b[39;49m\u001b[43mallowed_updates\u001b[49m\u001b[43m,\u001b[49m\n\u001b[0;32m    838\u001b[0m \u001b[43m        \u001b[49m\u001b[43mdrop_pending_updates\u001b[49m\u001b[38;5;241;43m=\u001b[39;49m\u001b[43mdrop_pending_updates\u001b[49m\u001b[43m,\u001b[49m\n\u001b[0;32m    839\u001b[0m \u001b[43m        \u001b[49m\u001b[43merror_callback\u001b[49m\u001b[38;5;241;43m=\u001b[39;49m\u001b[43merror_callback\u001b[49m\u001b[43m,\u001b[49m\u001b[43m  \u001b[49m\u001b[38;5;66;43;03m# if there is an error in fetching updates\u001b[39;49;00m\n\u001b[0;32m    840\u001b[0m \u001b[43m    \u001b[49m\u001b[43m)\u001b[49m\u001b[43m,\u001b[49m\n\u001b[0;32m    841\u001b[0m \u001b[43m    \u001b[49m\u001b[43mstop_signals\u001b[49m\u001b[38;5;241;43m=\u001b[39;49m\u001b[43mstop_signals\u001b[49m\u001b[43m,\u001b[49m\n\u001b[0;32m    842\u001b[0m \u001b[43m    \u001b[49m\u001b[43mbootstrap_retries\u001b[49m\u001b[38;5;241;43m=\u001b[39;49m\u001b[43mbootstrap_retries\u001b[49m\u001b[43m,\u001b[49m\n\u001b[0;32m    843\u001b[0m \u001b[43m    \u001b[49m\u001b[43mclose_loop\u001b[49m\u001b[38;5;241;43m=\u001b[39;49m\u001b[43mclose_loop\u001b[49m\u001b[43m,\u001b[49m\n\u001b[0;32m    844\u001b[0m \u001b[43m\u001b[49m\u001b[43m)\u001b[49m\n",
      "File \u001b[1;32md:\\pyenvs\\karelian\\Lib\\site-packages\\telegram\\ext\\_application.py:1072\u001b[0m, in \u001b[0;36mApplication.__run\u001b[1;34m(self, updater_coroutine, stop_signals, bootstrap_retries, close_loop)\u001b[0m\n\u001b[0;32m   1070\u001b[0m \u001b[38;5;28;01mfinally\u001b[39;00m:\n\u001b[0;32m   1071\u001b[0m     \u001b[38;5;28;01mif\u001b[39;00m close_loop:\n\u001b[1;32m-> 1072\u001b[0m         \u001b[43mloop\u001b[49m\u001b[38;5;241;43m.\u001b[39;49m\u001b[43mclose\u001b[49m\u001b[43m(\u001b[49m\u001b[43m)\u001b[49m\n",
      "File \u001b[1;32mC:\\Program Files\\Python312\\Lib\\asyncio\\selector_events.py:101\u001b[0m, in \u001b[0;36mBaseSelectorEventLoop.close\u001b[1;34m(self)\u001b[0m\n\u001b[0;32m     99\u001b[0m \u001b[38;5;28;01mdef\u001b[39;00m\u001b[38;5;250m \u001b[39m\u001b[38;5;21mclose\u001b[39m(\u001b[38;5;28mself\u001b[39m):\n\u001b[0;32m    100\u001b[0m     \u001b[38;5;28;01mif\u001b[39;00m \u001b[38;5;28mself\u001b[39m\u001b[38;5;241m.\u001b[39mis_running():\n\u001b[1;32m--> 101\u001b[0m         \u001b[38;5;28;01mraise\u001b[39;00m \u001b[38;5;167;01mRuntimeError\u001b[39;00m(\u001b[38;5;124m\"\u001b[39m\u001b[38;5;124mCannot close a running event loop\u001b[39m\u001b[38;5;124m\"\u001b[39m)\n\u001b[0;32m    102\u001b[0m     \u001b[38;5;28;01mif\u001b[39;00m \u001b[38;5;28mself\u001b[39m\u001b[38;5;241m.\u001b[39mis_closed():\n\u001b[0;32m    103\u001b[0m         \u001b[38;5;28;01mreturn\u001b[39;00m\n",
      "\u001b[1;31mRuntimeError\u001b[0m: Cannot close a running event loop"
     ]
    }
   ],
   "source": [
    "nest_asyncio.apply()\n",
    "\n",
    "bot = LabellingBot()\n",
    "bot.run()"
   ]
  },
  {
   "cell_type": "markdown",
   "metadata": {},
   "source": [
    "# Отладка"
   ]
  },
  {
   "cell_type": "code",
   "execution_count": 4,
   "metadata": {},
   "outputs": [
    {
     "data": {
      "text/plain": [
       "['Aazii']"
      ]
     },
     "execution_count": 4,
     "metadata": {},
     "output_type": "execute_result"
    }
   ],
   "source": [
    "line = 'Aazii'\n",
    "line.split('.')"
   ]
  },
  {
   "cell_type": "code",
   "execution_count": 5,
   "metadata": {},
   "outputs": [
    {
     "data": {
      "text/plain": [
       "True"
      ]
     },
     "execution_count": 5,
     "metadata": {},
     "output_type": "execute_result"
    }
   ],
   "source": [
    "line[-1] != '.'"
   ]
  },
  {
   "cell_type": "code",
   "execution_count": 16,
   "metadata": {},
   "outputs": [
    {
     "data": {
      "text/plain": [
       "[]"
      ]
     },
     "execution_count": 16,
     "metadata": {},
     "output_type": "execute_result"
    }
   ],
   "source": [
    "ab = [1]\n",
    "ab[1:]"
   ]
  },
  {
   "cell_type": "code",
   "execution_count": 20,
   "metadata": {},
   "outputs": [],
   "source": [
    "pairs = [('Časounu-sana', 'часовня'),\n",
    "  ('tulou', 'прийтись (безл.)'),\n",
    "  (\"ven'an\", 'русско-'),\n",
    "  ('sanas', 'лексика'),\n",
    "  ('\"časovnja\"', 'часовня'),\n",
    "  ('(),', 'воодушевить(с'),\n",
    "  ('kuduas', 'где'),\n",
    "  ('omas', 'собственн|ый'),\n",
    "  ('puoles', 'по (при указании на область деятельности)'),\n",
    "  ('on', 'есть (безл. в знач. сказ.)'),\n",
    "  ('\"čas\"-kandu', 'искушени|е (испытание)')]"
   ]
  },
  {
   "cell_type": "code",
   "execution_count": 37,
   "metadata": {},
   "outputs": [],
   "source": [
    "import numpy as np\n",
    "from sklearn.metrics.pairwise import cosine_similarity"
   ]
  },
  {
   "cell_type": "code",
   "execution_count": null,
   "metadata": {},
   "outputs": [],
   "source": [
    "a = np.ones((1, 10))\n",
    "b = np.array([1])\n",
    "cosine_similarity(a, b.reshape(1, -1)) # 1x1"
   ]
  },
  {
   "cell_type": "code",
   "execution_count": 44,
   "metadata": {},
   "outputs": [
    {
     "data": {
      "text/plain": [
       "(1,)"
      ]
     },
     "execution_count": 44,
     "metadata": {},
     "output_type": "execute_result"
    }
   ],
   "source": [
    "b.shape"
   ]
  },
  {
   "cell_type": "code",
   "execution_count": 22,
   "metadata": {},
   "outputs": [
    {
     "name": "stdout",
     "output_type": "stream",
     "text": [
      "Dictionary:\n",
      "Časounu-sana -> часовня\n",
      "tulou -> прийтись (безл.)\n",
      "ven'an -> русско-\n",
      "sanas -> лексика\n",
      "\"časovnja\" -> часовня\n",
      "(), -> воодушевить(с\n",
      "kuduas -> где\n",
      "omas -> собственн|ый\n",
      "puoles -> по (при указании на область деятельности)\n",
      "on -> есть (безл. в знач. сказ.)\n",
      "\"čas\"-kandu -> искушени|е (испытание)\n"
     ]
    }
   ],
   "source": [
    "msg=f\"Dictionary:\\n{'\\n'.join([f'{k} -> {v}' for k, v in pairs])}\"\n",
    "print(msg)"
   ]
  },
  {
   "cell_type": "code",
   "execution_count": 54,
   "metadata": {},
   "outputs": [
    {
     "name": "stdout",
     "output_type": "stream",
     "text": [
      "['asdfasdfas']\n"
     ]
    }
   ],
   "source": [
    "text = 'asdfasdfas'\n",
    "text_split = text.split() if len(text.split()) > 1 else [text]\n",
    "print(text_split)"
   ]
  },
  {
   "cell_type": "code",
   "execution_count": null,
   "metadata": {},
   "outputs": [
    {
     "data": {
      "text/plain": [
       "['Enzimäi ”afri”-sanal muinazen Karfagenan eläjät kučuttih ristikanzoi, kuduat elettih linnan lähäl.',\n",
       " 'Tämä nimi on sivottu ”afar”-sanah, kudai merkiččöy finikakse pölyy.',\n",
       " 'Konzu Riman eläjät vallattih Karfagenan, hyö nimitettih sen Afriekakse.',\n",
       " 'Myöhembäh Afriekakse ruvettih kuččuo tämän manderen kaikkii alovehii, a sit iččiegi mannerdu.']"
      ]
     },
     "execution_count": 21,
     "metadata": {},
     "output_type": "execute_result"
    }
   ],
   "source": [
    "from sentence_splitter import SentenceSplitter, split_text_into_sentences\n",
    "from tqdm import tqdm\n",
    "\n",
    "def split_sentences(text, language='fi'):\n",
    "    sentences = split_text_into_sentences(text=text, language=language) #.replace('\\r\\n', '')\n",
    "    return [s.strip() for s in sentences if s.strip()]\n",
    "\n",
    "file_path = os.path.join('data', 'corpus_to_label.txt')\n",
    "with open(file_path, 'r', encoding='utf-8') as file:\n",
    "    lines = file.readlines()\n",
    "\n",
    "print(split_sentences(lines[3], 'fi'))\n",
    "new_lines = list()\n",
    "for line in tqdm(lines):\n",
    "    new_art = split_sentences(line, 'fi')\n",
    "    new_lines.extend(new_art)\n",
    "with open('new_lines.txt', 'w', encoding='utf-8') as f:\n",
    "    f.write('\\n'.join(new_lines))"
   ]
  },
  {
   "cell_type": "code",
   "execution_count": null,
   "metadata": {},
   "outputs": [],
   "source": [
    "import logging\n",
    "from typing import Dict\n",
    "\n",
    "from telegram import ReplyKeyboardMarkup, ReplyKeyboardRemove, Update\n",
    "from telegram.ext import (\n",
    "    Application,\n",
    "    CommandHandler,\n",
    "    ContextTypes,\n",
    "    ConversationHandler,\n",
    "    MessageHandler,\n",
    "    PicklePersistence,\n",
    "    filters,\n",
    ")\n",
    "\n",
    "# Enable logging\n",
    "logging.basicConfig(\n",
    "    format=\"%(asctime)s - %(name)s - %(levelname)s - %(message)s\", level=logging.INFO\n",
    ")\n",
    "# set higher logging level for httpx to avoid all GET and POST requests being logged\n",
    "logging.getLogger(\"httpx\").setLevel(logging.WARNING)\n",
    "\n",
    "logger = logging.getLogger(__name__)\n",
    "\n",
    "CHOOSING, TYPING_REPLY, TYPING_CHOICE = range(3)\n",
    "\n",
    "reply_keyboard = [\n",
    "    [\"Age\", \"Favourite colour\"],\n",
    "    [\"Number of siblings\", \"Something else...\"],\n",
    "    [\"Done\"],\n",
    "]\n",
    "markup = ReplyKeyboardMarkup(reply_keyboard, one_time_keyboard=True)\n",
    "\n",
    "\n",
    "def facts_to_str(user_data: Dict[str, str]) -> str:\n",
    "    \"\"\"Helper function for formatting the gathered user info.\"\"\"\n",
    "    facts = [f\"{key} - {value}\" for key, value in user_data.items()]\n",
    "    return \"\\n\".join(facts).join([\"\\n\", \"\\n\"])\n",
    "\n",
    "\n",
    "async def start(update: Update, context: ContextTypes.DEFAULT_TYPE) -> int:\n",
    "    \"\"\"Start the conversation, display any stored data and ask user for input.\"\"\"\n",
    "    reply_text = \"Hi! My name is Doctor Botter.\"\n",
    "    if context.user_data:\n",
    "        reply_text += (\n",
    "            f\" You already told me your {', '.join(context.user_data.keys())}. Why don't you \"\n",
    "            \"tell me something more about yourself? Or change anything I already know.\"\n",
    "        )\n",
    "    else:\n",
    "        reply_text += (\n",
    "            \" I will hold a more complex conversation with you. Why don't you tell me \"\n",
    "            \"something about yourself?\"\n",
    "        )\n",
    "    await update.message.reply_text(reply_text, reply_markup=markup)\n",
    "\n",
    "    return CHOOSING\n",
    "\n",
    "\n",
    "async def regular_choice(update: Update, context: ContextTypes.DEFAULT_TYPE) -> int:\n",
    "    \"\"\"Ask the user for info about the selected predefined choice.\"\"\"\n",
    "    text = update.message.text.lower()\n",
    "    context.user_data[\"choice\"] = text\n",
    "    if context.user_data.get(text):\n",
    "        reply_text = (\n",
    "            f\"Your {text}? I already know the following about that: {context.user_data[text]}\"\n",
    "        )\n",
    "    else:\n",
    "        reply_text = f\"Your {text}? Yes, I would love to hear about that!\"\n",
    "    await update.message.reply_text(reply_text)\n",
    "\n",
    "    return TYPING_REPLY\n",
    "\n",
    "\n",
    "async def custom_choice(update: Update, context: ContextTypes.DEFAULT_TYPE) -> int:\n",
    "    \"\"\"Ask the user for a description of a custom category.\"\"\"\n",
    "    await update.message.reply_text(\n",
    "        'Alright, please send me the category first, for example \"Most impressive skill\"'\n",
    "    )\n",
    "\n",
    "    return TYPING_CHOICE\n",
    "\n",
    "\n",
    "async def received_information(update: Update, context: ContextTypes.DEFAULT_TYPE) -> int:\n",
    "    \"\"\"Store info provided by user and ask for the next category.\"\"\"\n",
    "    text = update.message.text\n",
    "    category = context.user_data[\"choice\"]\n",
    "    context.user_data[category] = text.lower()\n",
    "    del context.user_data[\"choice\"]\n",
    "\n",
    "    await update.message.reply_text(\n",
    "        \"Neat! Just so you know, this is what you already told me:\"\n",
    "        f\"{facts_to_str(context.user_data)}\"\n",
    "        \"You can tell me more, or change your opinion on something.\",\n",
    "        reply_markup=markup,\n",
    "    )\n",
    "\n",
    "    return CHOOSING\n",
    "\n",
    "\n",
    "async def show_data(update: Update, context: ContextTypes.DEFAULT_TYPE) -> None:\n",
    "    \"\"\"Display the gathered info.\"\"\"\n",
    "    await update.message.reply_text(\n",
    "        f\"This is what you already told me: {facts_to_str(context.user_data)}\"\n",
    "    )\n",
    "\n",
    "\n",
    "async def done(update: Update, context: ContextTypes.DEFAULT_TYPE) -> int:\n",
    "    \"\"\"Display the gathered info and end the conversation.\"\"\"\n",
    "    if \"choice\" in context.user_data:\n",
    "        del context.user_data[\"choice\"]\n",
    "\n",
    "    await update.message.reply_text(\n",
    "        f\"I learned these facts about you: {facts_to_str(context.user_data)}Until next time!\",\n",
    "        reply_markup=ReplyKeyboardRemove(),\n",
    "    )\n",
    "    return ConversationHandler.END\n",
    "\n",
    "\n",
    "def main() -> None:\n",
    "    \"\"\"Run the bot.\"\"\"\n",
    "    # Create the Application and pass it your bot's token.\n",
    "    persistence = PicklePersistence(filepath=\"conversationbot\")\n",
    "    token = ''\n",
    "    application = Application.builder().token(token).persistence(persistence).build()\n",
    "\n",
    "    # Add conversation handler with the states CHOOSING, TYPING_CHOICE and TYPING_REPLY\n",
    "    conv_handler = ConversationHandler(\n",
    "        entry_points=[CommandHandler(\"start\", start)],\n",
    "        states={\n",
    "            CHOOSING: [\n",
    "                MessageHandler(\n",
    "                    filters.Regex(\"^(Age|Favourite colour|Number of siblings)$\"), regular_choice\n",
    "                ),\n",
    "                MessageHandler(filters.Regex(\"^Something else...$\"), custom_choice),\n",
    "            ],\n",
    "            TYPING_CHOICE: [\n",
    "                MessageHandler(\n",
    "                    filters.TEXT & ~(filters.COMMAND | filters.Regex(\"^Done$\")), regular_choice\n",
    "                )\n",
    "            ],\n",
    "            TYPING_REPLY: [\n",
    "                MessageHandler(\n",
    "                    filters.TEXT & ~(filters.COMMAND | filters.Regex(\"^Done$\")),\n",
    "                    received_information,\n",
    "                )\n",
    "            ],\n",
    "        },\n",
    "        fallbacks=[MessageHandler(filters.Regex(\"^Done$\"), done)],\n",
    "        name=\"my_conversation\",\n",
    "        persistent=True,\n",
    "    )\n",
    "\n",
    "    application.add_handler(conv_handler)\n",
    "\n",
    "    show_data_handler = CommandHandler(\"show_data\", show_data)\n",
    "    application.add_handler(show_data_handler)\n",
    "\n",
    "    # Run the bot until the user presses Ctrl-C\n",
    "    application.run_polling(allowed_updates=Update.ALL_TYPES)"
   ]
  },
  {
   "cell_type": "code",
   "execution_count": null,
   "metadata": {},
   "outputs": [
    {
     "name": "stderr",
     "output_type": "stream",
     "text": [
      "2025-04-11 18:35:35,800 - telegram.ext.Application - INFO - Application started\n",
      "2025-04-11 18:37:39,684 - telegram.ext.Application - INFO - Application is stopping. This might take a moment.\n",
      "2025-04-11 18:37:39,685 - telegram.ext.Application - INFO - Application.stop() complete\n"
     ]
    },
    {
     "ename": "RuntimeError",
     "evalue": "Cannot close a running event loop",
     "output_type": "error",
     "traceback": [
      "\u001b[1;31m---------------------------------------------------------------------------\u001b[0m",
      "\u001b[1;31mRuntimeError\u001b[0m                              Traceback (most recent call last)",
      "Cell \u001b[1;32mIn[13], line 2\u001b[0m\n\u001b[0;32m      1\u001b[0m nest_asyncio\u001b[38;5;241m.\u001b[39mapply()\n\u001b[1;32m----> 2\u001b[0m \u001b[43mmain\u001b[49m\u001b[43m(\u001b[49m\u001b[43m)\u001b[49m\n",
      "Cell \u001b[1;32mIn[12], line 158\u001b[0m, in \u001b[0;36mmain\u001b[1;34m()\u001b[0m\n\u001b[0;32m    155\u001b[0m application\u001b[38;5;241m.\u001b[39madd_handler(show_data_handler)\n\u001b[0;32m    157\u001b[0m \u001b[38;5;66;03m# Run the bot until the user presses Ctrl-C\u001b[39;00m\n\u001b[1;32m--> 158\u001b[0m \u001b[43mapplication\u001b[49m\u001b[38;5;241;43m.\u001b[39;49m\u001b[43mrun_polling\u001b[49m\u001b[43m(\u001b[49m\u001b[43mallowed_updates\u001b[49m\u001b[38;5;241;43m=\u001b[39;49m\u001b[43mUpdate\u001b[49m\u001b[38;5;241;43m.\u001b[39;49m\u001b[43mALL_TYPES\u001b[49m\u001b[43m)\u001b[49m\n",
      "File \u001b[1;32md:\\pyenvs\\karelian\\Lib\\site-packages\\telegram\\ext\\_application.py:832\u001b[0m, in \u001b[0;36mApplication.run_polling\u001b[1;34m(self, poll_interval, timeout, bootstrap_retries, allowed_updates, drop_pending_updates, close_loop, stop_signals)\u001b[0m\n\u001b[0;32m    829\u001b[0m \u001b[38;5;28;01mdef\u001b[39;00m\u001b[38;5;250m \u001b[39m\u001b[38;5;21merror_callback\u001b[39m(exc: TelegramError) \u001b[38;5;241m-\u001b[39m\u001b[38;5;241m>\u001b[39m \u001b[38;5;28;01mNone\u001b[39;00m:\n\u001b[0;32m    830\u001b[0m     \u001b[38;5;28mself\u001b[39m\u001b[38;5;241m.\u001b[39mcreate_task(\u001b[38;5;28mself\u001b[39m\u001b[38;5;241m.\u001b[39mprocess_error(error\u001b[38;5;241m=\u001b[39mexc, update\u001b[38;5;241m=\u001b[39m\u001b[38;5;28;01mNone\u001b[39;00m))\n\u001b[1;32m--> 832\u001b[0m \u001b[38;5;28;01mreturn\u001b[39;00m \u001b[38;5;28;43mself\u001b[39;49m\u001b[38;5;241;43m.\u001b[39;49m\u001b[43m__run\u001b[49m\u001b[43m(\u001b[49m\n\u001b[0;32m    833\u001b[0m \u001b[43m    \u001b[49m\u001b[43mupdater_coroutine\u001b[49m\u001b[38;5;241;43m=\u001b[39;49m\u001b[38;5;28;43mself\u001b[39;49m\u001b[38;5;241;43m.\u001b[39;49m\u001b[43mupdater\u001b[49m\u001b[38;5;241;43m.\u001b[39;49m\u001b[43mstart_polling\u001b[49m\u001b[43m(\u001b[49m\n\u001b[0;32m    834\u001b[0m \u001b[43m        \u001b[49m\u001b[43mpoll_interval\u001b[49m\u001b[38;5;241;43m=\u001b[39;49m\u001b[43mpoll_interval\u001b[49m\u001b[43m,\u001b[49m\n\u001b[0;32m    835\u001b[0m \u001b[43m        \u001b[49m\u001b[43mtimeout\u001b[49m\u001b[38;5;241;43m=\u001b[39;49m\u001b[43mtimeout\u001b[49m\u001b[43m,\u001b[49m\n\u001b[0;32m    836\u001b[0m \u001b[43m        \u001b[49m\u001b[43mbootstrap_retries\u001b[49m\u001b[38;5;241;43m=\u001b[39;49m\u001b[43mbootstrap_retries\u001b[49m\u001b[43m,\u001b[49m\n\u001b[0;32m    837\u001b[0m \u001b[43m        \u001b[49m\u001b[43mallowed_updates\u001b[49m\u001b[38;5;241;43m=\u001b[39;49m\u001b[43mallowed_updates\u001b[49m\u001b[43m,\u001b[49m\n\u001b[0;32m    838\u001b[0m \u001b[43m        \u001b[49m\u001b[43mdrop_pending_updates\u001b[49m\u001b[38;5;241;43m=\u001b[39;49m\u001b[43mdrop_pending_updates\u001b[49m\u001b[43m,\u001b[49m\n\u001b[0;32m    839\u001b[0m \u001b[43m        \u001b[49m\u001b[43merror_callback\u001b[49m\u001b[38;5;241;43m=\u001b[39;49m\u001b[43merror_callback\u001b[49m\u001b[43m,\u001b[49m\u001b[43m  \u001b[49m\u001b[38;5;66;43;03m# if there is an error in fetching updates\u001b[39;49;00m\n\u001b[0;32m    840\u001b[0m \u001b[43m    \u001b[49m\u001b[43m)\u001b[49m\u001b[43m,\u001b[49m\n\u001b[0;32m    841\u001b[0m \u001b[43m    \u001b[49m\u001b[43mstop_signals\u001b[49m\u001b[38;5;241;43m=\u001b[39;49m\u001b[43mstop_signals\u001b[49m\u001b[43m,\u001b[49m\n\u001b[0;32m    842\u001b[0m \u001b[43m    \u001b[49m\u001b[43mbootstrap_retries\u001b[49m\u001b[38;5;241;43m=\u001b[39;49m\u001b[43mbootstrap_retries\u001b[49m\u001b[43m,\u001b[49m\n\u001b[0;32m    843\u001b[0m \u001b[43m    \u001b[49m\u001b[43mclose_loop\u001b[49m\u001b[38;5;241;43m=\u001b[39;49m\u001b[43mclose_loop\u001b[49m\u001b[43m,\u001b[49m\n\u001b[0;32m    844\u001b[0m \u001b[43m\u001b[49m\u001b[43m)\u001b[49m\n",
      "File \u001b[1;32md:\\pyenvs\\karelian\\Lib\\site-packages\\telegram\\ext\\_application.py:1072\u001b[0m, in \u001b[0;36mApplication.__run\u001b[1;34m(self, updater_coroutine, stop_signals, bootstrap_retries, close_loop)\u001b[0m\n\u001b[0;32m   1070\u001b[0m \u001b[38;5;28;01mfinally\u001b[39;00m:\n\u001b[0;32m   1071\u001b[0m     \u001b[38;5;28;01mif\u001b[39;00m close_loop:\n\u001b[1;32m-> 1072\u001b[0m         \u001b[43mloop\u001b[49m\u001b[38;5;241;43m.\u001b[39;49m\u001b[43mclose\u001b[49m\u001b[43m(\u001b[49m\u001b[43m)\u001b[49m\n",
      "File \u001b[1;32mC:\\Program Files\\Python312\\Lib\\asyncio\\selector_events.py:101\u001b[0m, in \u001b[0;36mBaseSelectorEventLoop.close\u001b[1;34m(self)\u001b[0m\n\u001b[0;32m     99\u001b[0m \u001b[38;5;28;01mdef\u001b[39;00m\u001b[38;5;250m \u001b[39m\u001b[38;5;21mclose\u001b[39m(\u001b[38;5;28mself\u001b[39m):\n\u001b[0;32m    100\u001b[0m     \u001b[38;5;28;01mif\u001b[39;00m \u001b[38;5;28mself\u001b[39m\u001b[38;5;241m.\u001b[39mis_running():\n\u001b[1;32m--> 101\u001b[0m         \u001b[38;5;28;01mraise\u001b[39;00m \u001b[38;5;167;01mRuntimeError\u001b[39;00m(\u001b[38;5;124m\"\u001b[39m\u001b[38;5;124mCannot close a running event loop\u001b[39m\u001b[38;5;124m\"\u001b[39m)\n\u001b[0;32m    102\u001b[0m     \u001b[38;5;28;01mif\u001b[39;00m \u001b[38;5;28mself\u001b[39m\u001b[38;5;241m.\u001b[39mis_closed():\n\u001b[0;32m    103\u001b[0m         \u001b[38;5;28;01mreturn\u001b[39;00m\n",
      "\u001b[1;31mRuntimeError\u001b[0m: Cannot close a running event loop"
     ]
    }
   ],
   "source": [
    "nest_asyncio.apply()\n",
    "main()"
   ]
  }
 ],
 "metadata": {
  "kernelspec": {
   "display_name": "karelian",
   "language": "python",
   "name": "python3"
  },
  "language_info": {
   "codemirror_mode": {
    "name": "ipython",
    "version": 3
   },
   "file_extension": ".py",
   "mimetype": "text/x-python",
   "name": "python",
   "nbconvert_exporter": "python",
   "pygments_lexer": "ipython3",
   "version": "3.12.3"
  }
 },
 "nbformat": 4,
 "nbformat_minor": 2
}
